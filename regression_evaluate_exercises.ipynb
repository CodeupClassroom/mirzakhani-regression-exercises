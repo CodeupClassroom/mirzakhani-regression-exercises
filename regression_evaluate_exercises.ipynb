{
 "cells": [
  {
   "cell_type": "code",
   "execution_count": 1,
   "id": "98ede7b9",
   "metadata": {},
   "outputs": [],
   "source": [
    "#standard \n",
    "import pandas as pd\n",
    "import numpy as np\n",
    "\n",
    "#viz\n",
    "import matplotlib.pyplot as plt\n",
    "import seaborn as sns\n",
    "\n",
    "#my wrangle file\n",
    "import wrangle"
   ]
  },
  {
   "cell_type": "markdown",
   "id": "7256930a",
   "metadata": {},
   "source": [
    "### Do you work for this exercise in either a jupyter notebook named evaluate within your regression-exercises repository. By the end of this exercise you will also create a python script named evaluate, so the overall deliverables for this exercise are the python script and jupyter notebook both with the name evaluate within your regression-exercises repo."
   ]
  },
  {
   "cell_type": "markdown",
   "id": "29d1308d",
   "metadata": {},
   "source": [
    "### Load your zillow dataset."
   ]
  },
  {
   "cell_type": "code",
   "execution_count": 2,
   "id": "42bce35c",
   "metadata": {},
   "outputs": [],
   "source": [
    "train, validate, test = wrangle.wrangle_zillow()"
   ]
  },
  {
   "cell_type": "code",
   "execution_count": 3,
   "id": "566861c5",
   "metadata": {},
   "outputs": [
    {
     "data": {
      "text/html": [
       "<div>\n",
       "<style scoped>\n",
       "    .dataframe tbody tr th:only-of-type {\n",
       "        vertical-align: middle;\n",
       "    }\n",
       "\n",
       "    .dataframe tbody tr th {\n",
       "        vertical-align: top;\n",
       "    }\n",
       "\n",
       "    .dataframe thead th {\n",
       "        text-align: right;\n",
       "    }\n",
       "</style>\n",
       "<table border=\"1\" class=\"dataframe\">\n",
       "  <thead>\n",
       "    <tr style=\"text-align: right;\">\n",
       "      <th></th>\n",
       "      <th>bedrooms</th>\n",
       "      <th>bathrooms</th>\n",
       "      <th>sq_feet</th>\n",
       "      <th>tax_value</th>\n",
       "      <th>year_built</th>\n",
       "      <th>tax_amount</th>\n",
       "      <th>fips</th>\n",
       "    </tr>\n",
       "  </thead>\n",
       "  <tbody>\n",
       "    <tr>\n",
       "      <th>1113544</th>\n",
       "      <td>2</td>\n",
       "      <td>2.0</td>\n",
       "      <td>1906</td>\n",
       "      <td>825572</td>\n",
       "      <td>1951</td>\n",
       "      <td>9996.51</td>\n",
       "      <td>6037</td>\n",
       "    </tr>\n",
       "    <tr>\n",
       "      <th>1301161</th>\n",
       "      <td>4</td>\n",
       "      <td>2.0</td>\n",
       "      <td>1481</td>\n",
       "      <td>313005</td>\n",
       "      <td>1968</td>\n",
       "      <td>4461.72</td>\n",
       "      <td>6037</td>\n",
       "    </tr>\n",
       "    <tr>\n",
       "      <th>1609877</th>\n",
       "      <td>4</td>\n",
       "      <td>3.0</td>\n",
       "      <td>2137</td>\n",
       "      <td>459841</td>\n",
       "      <td>1987</td>\n",
       "      <td>5703.07</td>\n",
       "      <td>6037</td>\n",
       "    </tr>\n",
       "    <tr>\n",
       "      <th>1431804</th>\n",
       "      <td>3</td>\n",
       "      <td>1.0</td>\n",
       "      <td>1016</td>\n",
       "      <td>250021</td>\n",
       "      <td>1957</td>\n",
       "      <td>3214.53</td>\n",
       "      <td>6037</td>\n",
       "    </tr>\n",
       "    <tr>\n",
       "      <th>138504</th>\n",
       "      <td>3</td>\n",
       "      <td>3.0</td>\n",
       "      <td>1920</td>\n",
       "      <td>282000</td>\n",
       "      <td>1988</td>\n",
       "      <td>3222.18</td>\n",
       "      <td>6037</td>\n",
       "    </tr>\n",
       "  </tbody>\n",
       "</table>\n",
       "</div>"
      ],
      "text/plain": [
       "         bedrooms  bathrooms  sq_feet  tax_value  year_built  tax_amount  fips\n",
       "1113544         2        2.0     1906     825572        1951     9996.51  6037\n",
       "1301161         4        2.0     1481     313005        1968     4461.72  6037\n",
       "1609877         4        3.0     2137     459841        1987     5703.07  6037\n",
       "1431804         3        1.0     1016     250021        1957     3214.53  6037\n",
       "138504          3        3.0     1920     282000        1988     3222.18  6037"
      ]
     },
     "execution_count": 3,
     "metadata": {},
     "output_type": "execute_result"
    }
   ],
   "source": [
    "train.head()"
   ]
  },
  {
   "cell_type": "markdown",
   "id": "a2971cfb",
   "metadata": {},
   "source": [
    "### Fit a linear regression model (ordinary least squares) and compute yhat, predictions of taxvaluedollarcnt using only calculatedfinishedsqft. Here is some sample code to get you started:"
   ]
  },
  {
   "cell_type": "code",
   "execution_count": null,
   "id": "0ef34ca0",
   "metadata": {},
   "outputs": [],
   "source": [
    "# from sklearn.linear_model import LinearRegression\n",
    "\n",
    "# # assuming X and y are already defined\n",
    "# model = LinearRegression().fit(X, y)\n",
    "# predictions = model.predict(X)"
   ]
  },
  {
   "cell_type": "markdown",
   "id": "3a918f04",
   "metadata": {},
   "source": [
    "### Modify and add to the code above as necessary for it to work with the zillow dataset."
   ]
  },
  {
   "cell_type": "code",
   "execution_count": 4,
   "id": "5bdca361",
   "metadata": {},
   "outputs": [
    {
     "data": {
      "text/html": [
       "<div>\n",
       "<style scoped>\n",
       "    .dataframe tbody tr th:only-of-type {\n",
       "        vertical-align: middle;\n",
       "    }\n",
       "\n",
       "    .dataframe tbody tr th {\n",
       "        vertical-align: top;\n",
       "    }\n",
       "\n",
       "    .dataframe thead th {\n",
       "        text-align: right;\n",
       "    }\n",
       "</style>\n",
       "<table border=\"1\" class=\"dataframe\">\n",
       "  <thead>\n",
       "    <tr style=\"text-align: right;\">\n",
       "      <th></th>\n",
       "      <th>bedrooms</th>\n",
       "      <th>bathrooms</th>\n",
       "      <th>sq_feet</th>\n",
       "      <th>tax_value</th>\n",
       "      <th>year_built</th>\n",
       "      <th>tax_amount</th>\n",
       "      <th>fips</th>\n",
       "    </tr>\n",
       "  </thead>\n",
       "  <tbody>\n",
       "    <tr>\n",
       "      <th>1113544</th>\n",
       "      <td>2</td>\n",
       "      <td>2.0</td>\n",
       "      <td>1906</td>\n",
       "      <td>825572</td>\n",
       "      <td>1951</td>\n",
       "      <td>9996.51</td>\n",
       "      <td>6037</td>\n",
       "    </tr>\n",
       "    <tr>\n",
       "      <th>1301161</th>\n",
       "      <td>4</td>\n",
       "      <td>2.0</td>\n",
       "      <td>1481</td>\n",
       "      <td>313005</td>\n",
       "      <td>1968</td>\n",
       "      <td>4461.72</td>\n",
       "      <td>6037</td>\n",
       "    </tr>\n",
       "    <tr>\n",
       "      <th>1609877</th>\n",
       "      <td>4</td>\n",
       "      <td>3.0</td>\n",
       "      <td>2137</td>\n",
       "      <td>459841</td>\n",
       "      <td>1987</td>\n",
       "      <td>5703.07</td>\n",
       "      <td>6037</td>\n",
       "    </tr>\n",
       "    <tr>\n",
       "      <th>1431804</th>\n",
       "      <td>3</td>\n",
       "      <td>1.0</td>\n",
       "      <td>1016</td>\n",
       "      <td>250021</td>\n",
       "      <td>1957</td>\n",
       "      <td>3214.53</td>\n",
       "      <td>6037</td>\n",
       "    </tr>\n",
       "    <tr>\n",
       "      <th>138504</th>\n",
       "      <td>3</td>\n",
       "      <td>3.0</td>\n",
       "      <td>1920</td>\n",
       "      <td>282000</td>\n",
       "      <td>1988</td>\n",
       "      <td>3222.18</td>\n",
       "      <td>6037</td>\n",
       "    </tr>\n",
       "  </tbody>\n",
       "</table>\n",
       "</div>"
      ],
      "text/plain": [
       "         bedrooms  bathrooms  sq_feet  tax_value  year_built  tax_amount  fips\n",
       "1113544         2        2.0     1906     825572        1951     9996.51  6037\n",
       "1301161         4        2.0     1481     313005        1968     4461.72  6037\n",
       "1609877         4        3.0     2137     459841        1987     5703.07  6037\n",
       "1431804         3        1.0     1016     250021        1957     3214.53  6037\n",
       "138504          3        3.0     1920     282000        1988     3222.18  6037"
      ]
     },
     "execution_count": 4,
     "metadata": {},
     "output_type": "execute_result"
    }
   ],
   "source": [
    "train.head()"
   ]
  },
  {
   "cell_type": "code",
   "execution_count": 5,
   "id": "f9967f56",
   "metadata": {},
   "outputs": [],
   "source": [
    "#drop extra columns\n",
    "train = train.drop(columns=['bedrooms','bathrooms',\n",
    "                    'year_built','tax_amount', 'fips'])"
   ]
  },
  {
   "cell_type": "code",
   "execution_count": 6,
   "id": "8687d1a8",
   "metadata": {},
   "outputs": [
    {
     "data": {
      "text/html": [
       "<div>\n",
       "<style scoped>\n",
       "    .dataframe tbody tr th:only-of-type {\n",
       "        vertical-align: middle;\n",
       "    }\n",
       "\n",
       "    .dataframe tbody tr th {\n",
       "        vertical-align: top;\n",
       "    }\n",
       "\n",
       "    .dataframe thead th {\n",
       "        text-align: right;\n",
       "    }\n",
       "</style>\n",
       "<table border=\"1\" class=\"dataframe\">\n",
       "  <thead>\n",
       "    <tr style=\"text-align: right;\">\n",
       "      <th></th>\n",
       "      <th>sq_feet</th>\n",
       "      <th>tax_value</th>\n",
       "    </tr>\n",
       "  </thead>\n",
       "  <tbody>\n",
       "    <tr>\n",
       "      <th>1113544</th>\n",
       "      <td>1906</td>\n",
       "      <td>825572</td>\n",
       "    </tr>\n",
       "    <tr>\n",
       "      <th>1301161</th>\n",
       "      <td>1481</td>\n",
       "      <td>313005</td>\n",
       "    </tr>\n",
       "    <tr>\n",
       "      <th>1609877</th>\n",
       "      <td>2137</td>\n",
       "      <td>459841</td>\n",
       "    </tr>\n",
       "    <tr>\n",
       "      <th>1431804</th>\n",
       "      <td>1016</td>\n",
       "      <td>250021</td>\n",
       "    </tr>\n",
       "    <tr>\n",
       "      <th>138504</th>\n",
       "      <td>1920</td>\n",
       "      <td>282000</td>\n",
       "    </tr>\n",
       "  </tbody>\n",
       "</table>\n",
       "</div>"
      ],
      "text/plain": [
       "         sq_feet  tax_value\n",
       "1113544     1906     825572\n",
       "1301161     1481     313005\n",
       "1609877     2137     459841\n",
       "1431804     1016     250021\n",
       "138504      1920     282000"
      ]
     },
     "execution_count": 6,
     "metadata": {},
     "output_type": "execute_result"
    }
   ],
   "source": [
    "train.head()"
   ]
  },
  {
   "cell_type": "code",
   "execution_count": 7,
   "id": "41f0df7e",
   "metadata": {},
   "outputs": [],
   "source": [
    "from sklearn.preprocessing import MinMaxScaler"
   ]
  },
  {
   "cell_type": "code",
   "execution_count": 8,
   "id": "504e7cee",
   "metadata": {},
   "outputs": [],
   "source": [
    "# create the scaler and fit/transform my square footage column\n",
    "mms = MinMaxScaler()\n",
    "\n",
    "train['sq_feet'] = mms.fit_transform(train[['sq_feet']])"
   ]
  },
  {
   "cell_type": "code",
   "execution_count": 9,
   "id": "00b91b1b",
   "metadata": {},
   "outputs": [
    {
     "data": {
      "text/html": [
       "<div>\n",
       "<style scoped>\n",
       "    .dataframe tbody tr th:only-of-type {\n",
       "        vertical-align: middle;\n",
       "    }\n",
       "\n",
       "    .dataframe tbody tr th {\n",
       "        vertical-align: top;\n",
       "    }\n",
       "\n",
       "    .dataframe thead th {\n",
       "        text-align: right;\n",
       "    }\n",
       "</style>\n",
       "<table border=\"1\" class=\"dataframe\">\n",
       "  <thead>\n",
       "    <tr style=\"text-align: right;\">\n",
       "      <th></th>\n",
       "      <th>sq_feet</th>\n",
       "      <th>tax_value</th>\n",
       "    </tr>\n",
       "  </thead>\n",
       "  <tbody>\n",
       "    <tr>\n",
       "      <th>1113544</th>\n",
       "      <td>0.194150</td>\n",
       "      <td>825572</td>\n",
       "    </tr>\n",
       "    <tr>\n",
       "      <th>1301161</th>\n",
       "      <td>0.150836</td>\n",
       "      <td>313005</td>\n",
       "    </tr>\n",
       "    <tr>\n",
       "      <th>1609877</th>\n",
       "      <td>0.217693</td>\n",
       "      <td>459841</td>\n",
       "    </tr>\n",
       "    <tr>\n",
       "      <th>1431804</th>\n",
       "      <td>0.103445</td>\n",
       "      <td>250021</td>\n",
       "    </tr>\n",
       "    <tr>\n",
       "      <th>138504</th>\n",
       "      <td>0.195577</td>\n",
       "      <td>282000</td>\n",
       "    </tr>\n",
       "  </tbody>\n",
       "</table>\n",
       "</div>"
      ],
      "text/plain": [
       "          sq_feet  tax_value\n",
       "1113544  0.194150     825572\n",
       "1301161  0.150836     313005\n",
       "1609877  0.217693     459841\n",
       "1431804  0.103445     250021\n",
       "138504   0.195577     282000"
      ]
     },
     "execution_count": 9,
     "metadata": {},
     "output_type": "execute_result"
    }
   ],
   "source": [
    "train.head()"
   ]
  },
  {
   "cell_type": "code",
   "execution_count": 10,
   "id": "72ea4f48",
   "metadata": {},
   "outputs": [
    {
     "data": {
      "text/plain": [
       "0.0"
      ]
     },
     "execution_count": 10,
     "metadata": {},
     "output_type": "execute_result"
    }
   ],
   "source": [
    "train.sq_feet.min()"
   ]
  },
  {
   "cell_type": "code",
   "execution_count": 11,
   "id": "c9bac2a7",
   "metadata": {},
   "outputs": [
    {
     "data": {
      "text/plain": [
       "1.0"
      ]
     },
     "execution_count": 11,
     "metadata": {},
     "output_type": "execute_result"
    }
   ],
   "source": [
    "train.sq_feet.max()"
   ]
  },
  {
   "cell_type": "code",
   "execution_count": 20,
   "id": "d3f482c3",
   "metadata": {},
   "outputs": [],
   "source": [
    "#split into my X_train and y_train\n",
    "X_train = train[['sq_feet']]\n",
    "y_train = train.tax_value\n",
    "\n",
    "X_validate = validate[['sq_feet']]\n",
    "y_validate = validate.tax_value\n",
    "\n",
    "X_test = test[['sq_feet']]\n",
    "y_test = test.tax_value"
   ]
  },
  {
   "cell_type": "code",
   "execution_count": 21,
   "id": "dc6f0d63",
   "metadata": {},
   "outputs": [
    {
     "data": {
      "text/html": [
       "<div>\n",
       "<style scoped>\n",
       "    .dataframe tbody tr th:only-of-type {\n",
       "        vertical-align: middle;\n",
       "    }\n",
       "\n",
       "    .dataframe tbody tr th {\n",
       "        vertical-align: top;\n",
       "    }\n",
       "\n",
       "    .dataframe thead th {\n",
       "        text-align: right;\n",
       "    }\n",
       "</style>\n",
       "<table border=\"1\" class=\"dataframe\">\n",
       "  <thead>\n",
       "    <tr style=\"text-align: right;\">\n",
       "      <th></th>\n",
       "      <th>sq_feet</th>\n",
       "    </tr>\n",
       "  </thead>\n",
       "  <tbody>\n",
       "    <tr>\n",
       "      <th>1113544</th>\n",
       "      <td>0.194150</td>\n",
       "    </tr>\n",
       "    <tr>\n",
       "      <th>1301161</th>\n",
       "      <td>0.150836</td>\n",
       "    </tr>\n",
       "    <tr>\n",
       "      <th>1609877</th>\n",
       "      <td>0.217693</td>\n",
       "    </tr>\n",
       "    <tr>\n",
       "      <th>1431804</th>\n",
       "      <td>0.103445</td>\n",
       "    </tr>\n",
       "    <tr>\n",
       "      <th>138504</th>\n",
       "      <td>0.195577</td>\n",
       "    </tr>\n",
       "  </tbody>\n",
       "</table>\n",
       "</div>"
      ],
      "text/plain": [
       "          sq_feet\n",
       "1113544  0.194150\n",
       "1301161  0.150836\n",
       "1609877  0.217693\n",
       "1431804  0.103445\n",
       "138504   0.195577"
      ]
     },
     "execution_count": 21,
     "metadata": {},
     "output_type": "execute_result"
    }
   ],
   "source": [
    "X_train.head()"
   ]
  },
  {
   "cell_type": "code",
   "execution_count": 22,
   "id": "4fb0c347",
   "metadata": {},
   "outputs": [
    {
     "data": {
      "text/plain": [
       "1113544    825572\n",
       "1301161    313005\n",
       "1609877    459841\n",
       "1431804    250021\n",
       "138504     282000\n",
       "Name: tax_value, dtype: int64"
      ]
     },
     "execution_count": 22,
     "metadata": {},
     "output_type": "execute_result"
    }
   ],
   "source": [
    "y_train.head()"
   ]
  },
  {
   "cell_type": "code",
   "execution_count": 23,
   "id": "a964bdef",
   "metadata": {},
   "outputs": [],
   "source": [
    "#make my ols model\n",
    "from sklearn.linear_model import LinearRegression\n",
    "\n",
    "model = LinearRegression().fit(X_train, y_train)\n",
    "predictions = model.predict(X_train)"
   ]
  },
  {
   "cell_type": "code",
   "execution_count": 24,
   "id": "b17de8a5",
   "metadata": {},
   "outputs": [
    {
     "data": {
      "text/plain": [
       "array([424262.18455052, 324534.01802649, 478467.3762377 , ...,\n",
       "       365598.55718345, 866116.62587936, 339551.90663246])"
      ]
     },
     "execution_count": 24,
     "metadata": {},
     "output_type": "execute_result"
    }
   ],
   "source": [
    "predictions"
   ]
  },
  {
   "cell_type": "code",
   "execution_count": 25,
   "id": "17711aad",
   "metadata": {},
   "outputs": [],
   "source": [
    "#save predictions into train df\n",
    "train['yhat'] = predictions"
   ]
  },
  {
   "cell_type": "code",
   "execution_count": 26,
   "id": "a441d11a",
   "metadata": {},
   "outputs": [
    {
     "data": {
      "text/html": [
       "<div>\n",
       "<style scoped>\n",
       "    .dataframe tbody tr th:only-of-type {\n",
       "        vertical-align: middle;\n",
       "    }\n",
       "\n",
       "    .dataframe tbody tr th {\n",
       "        vertical-align: top;\n",
       "    }\n",
       "\n",
       "    .dataframe thead th {\n",
       "        text-align: right;\n",
       "    }\n",
       "</style>\n",
       "<table border=\"1\" class=\"dataframe\">\n",
       "  <thead>\n",
       "    <tr style=\"text-align: right;\">\n",
       "      <th></th>\n",
       "      <th>sq_feet</th>\n",
       "      <th>tax_value</th>\n",
       "      <th>yhat</th>\n",
       "    </tr>\n",
       "  </thead>\n",
       "  <tbody>\n",
       "    <tr>\n",
       "      <th>1113544</th>\n",
       "      <td>0.194150</td>\n",
       "      <td>825572</td>\n",
       "      <td>424262.184551</td>\n",
       "    </tr>\n",
       "    <tr>\n",
       "      <th>1301161</th>\n",
       "      <td>0.150836</td>\n",
       "      <td>313005</td>\n",
       "      <td>324534.018026</td>\n",
       "    </tr>\n",
       "    <tr>\n",
       "      <th>1609877</th>\n",
       "      <td>0.217693</td>\n",
       "      <td>459841</td>\n",
       "      <td>478467.376238</td>\n",
       "    </tr>\n",
       "    <tr>\n",
       "      <th>1431804</th>\n",
       "      <td>0.103445</td>\n",
       "      <td>250021</td>\n",
       "      <td>215419.671124</td>\n",
       "    </tr>\n",
       "    <tr>\n",
       "      <th>138504</th>\n",
       "      <td>0.195577</td>\n",
       "      <td>282000</td>\n",
       "      <td>427547.347683</td>\n",
       "    </tr>\n",
       "  </tbody>\n",
       "</table>\n",
       "</div>"
      ],
      "text/plain": [
       "          sq_feet  tax_value           yhat\n",
       "1113544  0.194150     825572  424262.184551\n",
       "1301161  0.150836     313005  324534.018026\n",
       "1609877  0.217693     459841  478467.376238\n",
       "1431804  0.103445     250021  215419.671124\n",
       "138504   0.195577     282000  427547.347683"
      ]
     },
     "execution_count": 26,
     "metadata": {},
     "output_type": "execute_result"
    }
   ],
   "source": [
    "train.head()"
   ]
  },
  {
   "cell_type": "markdown",
   "id": "fa38ffc1",
   "metadata": {},
   "source": [
    "### Plot the residuals for the linear regression model that you made."
   ]
  },
  {
   "cell_type": "code",
   "execution_count": 33,
   "id": "d665eb80",
   "metadata": {},
   "outputs": [],
   "source": [
    "#calculate residuals (acutal - prediction)\n",
    "train['residuals'] = train.tax_value - train.yhat"
   ]
  },
  {
   "cell_type": "code",
   "execution_count": 34,
   "id": "538dce48",
   "metadata": {},
   "outputs": [
    {
     "data": {
      "text/html": [
       "<div>\n",
       "<style scoped>\n",
       "    .dataframe tbody tr th:only-of-type {\n",
       "        vertical-align: middle;\n",
       "    }\n",
       "\n",
       "    .dataframe tbody tr th {\n",
       "        vertical-align: top;\n",
       "    }\n",
       "\n",
       "    .dataframe thead th {\n",
       "        text-align: right;\n",
       "    }\n",
       "</style>\n",
       "<table border=\"1\" class=\"dataframe\">\n",
       "  <thead>\n",
       "    <tr style=\"text-align: right;\">\n",
       "      <th></th>\n",
       "      <th>sq_feet</th>\n",
       "      <th>tax_value</th>\n",
       "      <th>yhat</th>\n",
       "      <th>residuals</th>\n",
       "    </tr>\n",
       "  </thead>\n",
       "  <tbody>\n",
       "    <tr>\n",
       "      <th>1113544</th>\n",
       "      <td>0.194150</td>\n",
       "      <td>825572</td>\n",
       "      <td>424262.184551</td>\n",
       "      <td>401309.815449</td>\n",
       "    </tr>\n",
       "    <tr>\n",
       "      <th>1301161</th>\n",
       "      <td>0.150836</td>\n",
       "      <td>313005</td>\n",
       "      <td>324534.018026</td>\n",
       "      <td>-11529.018026</td>\n",
       "    </tr>\n",
       "    <tr>\n",
       "      <th>1609877</th>\n",
       "      <td>0.217693</td>\n",
       "      <td>459841</td>\n",
       "      <td>478467.376238</td>\n",
       "      <td>-18626.376238</td>\n",
       "    </tr>\n",
       "    <tr>\n",
       "      <th>1431804</th>\n",
       "      <td>0.103445</td>\n",
       "      <td>250021</td>\n",
       "      <td>215419.671124</td>\n",
       "      <td>34601.328876</td>\n",
       "    </tr>\n",
       "    <tr>\n",
       "      <th>138504</th>\n",
       "      <td>0.195577</td>\n",
       "      <td>282000</td>\n",
       "      <td>427547.347683</td>\n",
       "      <td>-145547.347683</td>\n",
       "    </tr>\n",
       "  </tbody>\n",
       "</table>\n",
       "</div>"
      ],
      "text/plain": [
       "          sq_feet  tax_value           yhat      residuals\n",
       "1113544  0.194150     825572  424262.184551  401309.815449\n",
       "1301161  0.150836     313005  324534.018026  -11529.018026\n",
       "1609877  0.217693     459841  478467.376238  -18626.376238\n",
       "1431804  0.103445     250021  215419.671124   34601.328876\n",
       "138504   0.195577     282000  427547.347683 -145547.347683"
      ]
     },
     "execution_count": 34,
     "metadata": {},
     "output_type": "execute_result"
    }
   ],
   "source": [
    "train.head()"
   ]
  },
  {
   "cell_type": "code",
   "execution_count": 35,
   "id": "67b54bd3",
   "metadata": {},
   "outputs": [
    {
     "data": {
      "image/png": "[encoded data removed]",
      "text/plain": [
       "<Figure size 432x288 with 1 Axes>"
      ]
     },
     "metadata": {
      "needs_background": "light"
     },
     "output_type": "display_data"
    }
   ],
   "source": [
    "#make scatterplot of y-value vs residuals\n",
    "sns.scatterplot(data=train, x='tax_value', y='residuals')\n",
    "\n",
    "plt.xlabel('Home Value')\n",
    "plt.ylabel('Residuals')\n",
    "plt.title('Residual vs Home Value Plot')\n",
    "plt.show()"
   ]
  },
  {
   "cell_type": "markdown",
   "id": "4e72a7cb",
   "metadata": {},
   "source": [
    "### Calculate the sum of squared errors, explained sum of squares, total sum of squares, mean squared error, and root mean squared error for your model."
   ]
  },
  {
   "cell_type": "code",
   "execution_count": 36,
   "id": "1b80a8fa",
   "metadata": {},
   "outputs": [],
   "source": [
    "from sklearn.metrics import mean_squared_error"
   ]
  },
  {
   "cell_type": "markdown",
   "id": "159c49c9",
   "metadata": {},
   "source": [
    "#### MSE - mean squared error"
   ]
  },
  {
   "cell_type": "code",
   "execution_count": 37,
   "id": "0db7a7a5",
   "metadata": {},
   "outputs": [
    {
     "data": {
      "text/plain": [
       "64300839063.63265"
      ]
     },
     "execution_count": 37,
     "metadata": {},
     "output_type": "execute_result"
    }
   ],
   "source": [
    "MSE = mean_squared_error(train.tax_value, train.yhat)\n",
    "MSE"
   ]
  },
  {
   "cell_type": "markdown",
   "id": "39e41469",
   "metadata": {},
   "source": [
    "#### SSE - sum or squared errors"
   ]
  },
  {
   "cell_type": "code",
   "execution_count": 38,
   "id": "b4415a59",
   "metadata": {},
   "outputs": [
    {
     "data": {
      "text/plain": [
       "7.542006165871133e+16"
      ]
     },
     "execution_count": 38,
     "metadata": {},
     "output_type": "execute_result"
    }
   ],
   "source": [
    "SSE = MSE * len(train)\n",
    "SSE"
   ]
  },
  {
   "cell_type": "markdown",
   "id": "79156302",
   "metadata": {},
   "source": [
    "#### RMSE - root mean squared eror"
   ]
  },
  {
   "cell_type": "code",
   "execution_count": 39,
   "id": "cc2bded6",
   "metadata": {},
   "outputs": [
    {
     "data": {
      "text/plain": [
       "253576.10112869993"
      ]
     },
     "execution_count": 39,
     "metadata": {},
     "output_type": "execute_result"
    }
   ],
   "source": [
    "RMSE = MSE**.5\n",
    "RMSE"
   ]
  },
  {
   "cell_type": "markdown",
   "id": "1f4aa7ee",
   "metadata": {},
   "source": [
    "#### ESS - explained sum of squares"
   ]
  },
  {
   "cell_type": "code",
   "execution_count": 40,
   "id": "1bee48c4",
   "metadata": {},
   "outputs": [
    {
     "data": {
      "text/plain": [
       "3.9832944783407416e+16"
      ]
     },
     "execution_count": 40,
     "metadata": {},
     "output_type": "execute_result"
    }
   ],
   "source": [
    "ESS = ((train.yhat - train.tax_value.mean())**2).sum()\n",
    "ESS"
   ]
  },
  {
   "cell_type": "markdown",
   "id": "a2b28b7d",
   "metadata": {},
   "source": [
    "#### TSS - total sum of squares"
   ]
  },
  {
   "cell_type": "code",
   "execution_count": 41,
   "id": "d590b40c",
   "metadata": {},
   "outputs": [
    {
     "data": {
      "text/plain": [
       "1.1525300644211875e+17"
      ]
     },
     "execution_count": 41,
     "metadata": {},
     "output_type": "execute_result"
    }
   ],
   "source": [
    "TSS = ESS + SSE\n",
    "TSS"
   ]
  },
  {
   "cell_type": "markdown",
   "id": "2570a4d4",
   "metadata": {},
   "source": [
    "### Calculate the sum of squared errors, mean squared error, and root mean squared error for the baseline model (i.e. a model that always predicts the average taxvaluedollarcnt amount)."
   ]
  },
  {
   "cell_type": "code",
   "execution_count": 42,
   "id": "2b9bbc4a",
   "metadata": {},
   "outputs": [],
   "source": [
    "train['baseline'] = train.tax_value.mean()"
   ]
  },
  {
   "cell_type": "code",
   "execution_count": 43,
   "id": "0e919e86",
   "metadata": {},
   "outputs": [
    {
     "data": {
      "text/html": [
       "<div>\n",
       "<style scoped>\n",
       "    .dataframe tbody tr th:only-of-type {\n",
       "        vertical-align: middle;\n",
       "    }\n",
       "\n",
       "    .dataframe tbody tr th {\n",
       "        vertical-align: top;\n",
       "    }\n",
       "\n",
       "    .dataframe thead th {\n",
       "        text-align: right;\n",
       "    }\n",
       "</style>\n",
       "<table border=\"1\" class=\"dataframe\">\n",
       "  <thead>\n",
       "    <tr style=\"text-align: right;\">\n",
       "      <th></th>\n",
       "      <th>sq_feet</th>\n",
       "      <th>tax_value</th>\n",
       "      <th>yhat</th>\n",
       "      <th>residuals</th>\n",
       "      <th>baseline</th>\n",
       "    </tr>\n",
       "  </thead>\n",
       "  <tbody>\n",
       "    <tr>\n",
       "      <th>1113544</th>\n",
       "      <td>0.194150</td>\n",
       "      <td>825572</td>\n",
       "      <td>424262.184551</td>\n",
       "      <td>401309.815449</td>\n",
       "      <td>398512.769647</td>\n",
       "    </tr>\n",
       "    <tr>\n",
       "      <th>1301161</th>\n",
       "      <td>0.150836</td>\n",
       "      <td>313005</td>\n",
       "      <td>324534.018026</td>\n",
       "      <td>-11529.018026</td>\n",
       "      <td>398512.769647</td>\n",
       "    </tr>\n",
       "    <tr>\n",
       "      <th>1609877</th>\n",
       "      <td>0.217693</td>\n",
       "      <td>459841</td>\n",
       "      <td>478467.376238</td>\n",
       "      <td>-18626.376238</td>\n",
       "      <td>398512.769647</td>\n",
       "    </tr>\n",
       "    <tr>\n",
       "      <th>1431804</th>\n",
       "      <td>0.103445</td>\n",
       "      <td>250021</td>\n",
       "      <td>215419.671124</td>\n",
       "      <td>34601.328876</td>\n",
       "      <td>398512.769647</td>\n",
       "    </tr>\n",
       "    <tr>\n",
       "      <th>138504</th>\n",
       "      <td>0.195577</td>\n",
       "      <td>282000</td>\n",
       "      <td>427547.347683</td>\n",
       "      <td>-145547.347683</td>\n",
       "      <td>398512.769647</td>\n",
       "    </tr>\n",
       "  </tbody>\n",
       "</table>\n",
       "</div>"
      ],
      "text/plain": [
       "          sq_feet  tax_value           yhat      residuals       baseline\n",
       "1113544  0.194150     825572  424262.184551  401309.815449  398512.769647\n",
       "1301161  0.150836     313005  324534.018026  -11529.018026  398512.769647\n",
       "1609877  0.217693     459841  478467.376238  -18626.376238  398512.769647\n",
       "1431804  0.103445     250021  215419.671124   34601.328876  398512.769647\n",
       "138504   0.195577     282000  427547.347683 -145547.347683  398512.769647"
      ]
     },
     "execution_count": 43,
     "metadata": {},
     "output_type": "execute_result"
    }
   ],
   "source": [
    "train.head()"
   ]
  },
  {
   "cell_type": "markdown",
   "id": "c5ca01c0",
   "metadata": {},
   "source": [
    "#### MSE"
   ]
  },
  {
   "cell_type": "code",
   "execution_count": 44,
   "id": "c337a7e5",
   "metadata": {},
   "outputs": [
    {
     "data": {
      "text/plain": [
       "98261190137.58556"
      ]
     },
     "execution_count": 44,
     "metadata": {},
     "output_type": "execute_result"
    }
   ],
   "source": [
    "MSE_baseline = mean_squared_error(train.tax_value, train.baseline)\n",
    "MSE_baseline"
   ]
  },
  {
   "cell_type": "markdown",
   "id": "d89cf43f",
   "metadata": {},
   "source": [
    "#### SSE"
   ]
  },
  {
   "cell_type": "code",
   "execution_count": 45,
   "id": "112175cf",
   "metadata": {},
   "outputs": [
    {
     "data": {
      "text/plain": [
       "1.1525300644212754e+17"
      ]
     },
     "execution_count": 45,
     "metadata": {},
     "output_type": "execute_result"
    }
   ],
   "source": [
    "SSE_baseline = MSE_baseline * len(train)\n",
    "SSE_baseline"
   ]
  },
  {
   "cell_type": "markdown",
   "id": "bc5f1a81",
   "metadata": {},
   "source": [
    "#### RSME"
   ]
  },
  {
   "cell_type": "code",
   "execution_count": 46,
   "id": "bb6f6c75",
   "metadata": {},
   "outputs": [
    {
     "data": {
      "text/plain": [
       "313466.4099031754"
      ]
     },
     "execution_count": 46,
     "metadata": {},
     "output_type": "execute_result"
    }
   ],
   "source": [
    "RMSE_baseline = MSE_baseline**.5\n",
    "RMSE_baseline"
   ]
  },
  {
   "cell_type": "markdown",
   "id": "d6bd99c2",
   "metadata": {},
   "source": [
    "### Write python code that compares the sum of squared errors for your model against the sum of squared errors for the baseline model and outputs whether or not your model performs better than the baseline model."
   ]
  },
  {
   "cell_type": "code",
   "execution_count": 47,
   "id": "2ddc347e",
   "metadata": {},
   "outputs": [
    {
     "name": "stdout",
     "output_type": "stream",
     "text": [
      "My OSL model performs better than baseline\n"
     ]
    }
   ],
   "source": [
    "if SSE < SSE_baseline:\n",
    "    print('My OSL model performs better than baseline')\n",
    "else:\n",
    "    print('My OSL model performs worse than baseline. :( )')"
   ]
  },
  {
   "cell_type": "markdown",
   "id": "3e50b329",
   "metadata": {},
   "source": [
    "### What is the amount of variance explained in your model?"
   ]
  },
  {
   "cell_type": "code",
   "execution_count": 48,
   "id": "5715ac8b",
   "metadata": {},
   "outputs": [
    {
     "data": {
      "text/plain": [
       "0.34561306479594467"
      ]
     },
     "execution_count": 48,
     "metadata": {},
     "output_type": "execute_result"
    }
   ],
   "source": [
    "#manually\n",
    "R2 = ESS / TSS\n",
    "R2"
   ]
  },
  {
   "cell_type": "code",
   "execution_count": 51,
   "id": "3203d21d",
   "metadata": {},
   "outputs": [],
   "source": [
    "from sklearn.metrics import r2_score"
   ]
  },
  {
   "cell_type": "code",
   "execution_count": 50,
   "id": "44c1948d",
   "metadata": {},
   "outputs": [
    {
     "data": {
      "text/plain": [
       "0.34561306479599463"
      ]
     },
     "execution_count": 50,
     "metadata": {},
     "output_type": "execute_result"
    }
   ],
   "source": [
    "#from sklearn\n",
    "r2_score(train.tax_value, train.yhat)"
   ]
  },
  {
   "cell_type": "markdown",
   "id": "84ad0d32",
   "metadata": {},
   "source": [
    "### Is your model better than the baseline model?"
   ]
  },
  {
   "cell_type": "code",
   "execution_count": 53,
   "id": "86ecde94",
   "metadata": {},
   "outputs": [
    {
     "data": {
      "text/plain": [
       "59890.308774475445"
      ]
     },
     "execution_count": 53,
     "metadata": {},
     "output_type": "execute_result"
    }
   ],
   "source": [
    "RMSE_baseline - RMSE"
   ]
  },
  {
   "cell_type": "markdown",
   "id": "2fd3c24e",
   "metadata": {},
   "source": [
    "> it is better, but its still pretty bad and we probably don't want to use it"
   ]
  },
  {
   "cell_type": "markdown",
   "id": "4b4f4a7d",
   "metadata": {},
   "source": [
    "### Create a file named evaluate.py that contains the following functions."
   ]
  },
  {
   "cell_type": "markdown",
   "id": "7958db45",
   "metadata": {},
   "source": [
    "- plot_residuals(y, yhat): creates a residual plot\n",
    "- regression_errors(y, yhat): returns the following values:\n",
    "    - sum of squared errors (SSE)\n",
    "    - explained sum of squares (ESS)\n",
    "    - total sum of squares (TSS)\n",
    "    - mean squared error (MSE)\n",
    "    - root mean squared error (RMSE)\n",
    "- baseline_mean_errors(y): computes the SSE, MSE, and RMSE for the baseline model\n",
    "- better_than_baseline(y, yhat): returns true if your model performs better than the baseline, otherwise false"
   ]
  },
  {
   "cell_type": "code",
   "execution_count": 54,
   "id": "71d8e244",
   "metadata": {},
   "outputs": [],
   "source": [
    "def plot_residuals(y, yhat):\n",
    "    residuals = y - yhat\n",
    "    \n",
    "    plt.scatter(x=y, y=residuals)\n",
    "    plt.xlabel('Home Value')\n",
    "    plt.ylabel('Residuals')\n",
    "    plt.title('Residual vs Home Value Plot')\n",
    "    plt.show()"
   ]
  },
  {
   "cell_type": "code",
   "execution_count": 55,
   "id": "2d60c9d3",
   "metadata": {},
   "outputs": [
    {
     "data": {
      "image/png": "[encoded data removed]",
      "text/plain": [
       "<Figure size 432x288 with 1 Axes>"
      ]
     },
     "metadata": {
      "needs_background": "light"
     },
     "output_type": "display_data"
    }
   ],
   "source": [
    "plot_residuals(train.tax_value, train.yhat)"
   ]
  },
  {
   "cell_type": "code",
   "execution_count": 56,
   "id": "14ec8d9c",
   "metadata": {},
   "outputs": [],
   "source": [
    "def regression_errors(y, yhat):\n",
    "    MSE = mean_squared_error(y, yhat)\n",
    "    SSE = MSE * len(y)\n",
    "    RMSE = MSE**.5\n",
    "    \n",
    "    ESS = ((yhat - y.mean())**2).sum()\n",
    "    TSS = ESS + SSE\n",
    "    \n",
    "    return SSE, ESS, TSS, MSE, RMSE"
   ]
  },
  {
   "cell_type": "code",
   "execution_count": 57,
   "id": "3ad0eaef",
   "metadata": {},
   "outputs": [
    {
     "data": {
      "text/plain": [
       "(7.542006165871133e+16,\n",
       " 3.9832944783407416e+16,\n",
       " 1.1525300644211875e+17,\n",
       " 64300839063.63265,\n",
       " 253576.10112869993)"
      ]
     },
     "execution_count": 57,
     "metadata": {},
     "output_type": "execute_result"
    }
   ],
   "source": [
    "regression_errors(train.tax_value, train.yhat)"
   ]
  },
  {
   "cell_type": "code",
   "execution_count": 58,
   "id": "61f89124",
   "metadata": {},
   "outputs": [],
   "source": [
    "def baseline_mean_errors(y):\n",
    "    baseline = np.repeat(y.mean(), len(y))\n",
    "    \n",
    "    MSE = mean_squared_error(y, baseline)\n",
    "    SSE = MSE * len(y)\n",
    "    RMSE = MSE**.5\n",
    "    \n",
    "    return SSE, MSE, RMSE\n"
   ]
  },
  {
   "cell_type": "code",
   "execution_count": 59,
   "id": "27c9216b",
   "metadata": {},
   "outputs": [
    {
     "data": {
      "text/plain": [
       "(1.1525300644212754e+17, 98261190137.58556, 313466.4099031754)"
      ]
     },
     "execution_count": 59,
     "metadata": {},
     "output_type": "execute_result"
    }
   ],
   "source": [
    "baseline_mean_errors(train.tax_value)"
   ]
  },
  {
   "cell_type": "code",
   "execution_count": 60,
   "id": "f5feaec0",
   "metadata": {},
   "outputs": [],
   "source": [
    "def better_than_baseline(y, yhat):\n",
    "    SSE, ESS, TSS, MSE, RMSE = regression_errors(y, yhat)\n",
    "    \n",
    "    SSE_baseline, MSE_baseline, RMSE_baseline = baseline_mean_errors(y)\n",
    "    \n",
    "    if SSE < SSE_baseline:\n",
    "        print('My OSL model performs better than baseline')\n",
    "    else:\n",
    "        print('My OSL model performs worse than baseline. :( )')"
   ]
  },
  {
   "cell_type": "code",
   "execution_count": 61,
   "id": "bb19b645",
   "metadata": {},
   "outputs": [
    {
     "name": "stdout",
     "output_type": "stream",
     "text": [
      "My OSL model performs better than baseline\n"
     ]
    }
   ],
   "source": [
    "better_than_baseline(train.tax_value, train.yhat)\n"
   ]
  },
  {
   "cell_type": "code",
   "execution_count": null,
   "id": "9eea87f3",
   "metadata": {},
   "outputs": [],
   "source": []
  }
 ],
 "metadata": {
  "kernelspec": {
   "display_name": "Python 3 (ipykernel)",
   "language": "python",
   "name": "python3"
  },
  "language_info": {
   "codemirror_mode": {
    "name": "ipython",
    "version": 3
   },
   "file_extension": ".py",
   "mimetype": "text/x-python",
   "name": "python",
   "nbconvert_exporter": "python",
   "pygments_lexer": "ipython3",
   "version": "3.9.12"
  }
 },
 "nbformat": 4,
 "nbformat_minor": 5
}
