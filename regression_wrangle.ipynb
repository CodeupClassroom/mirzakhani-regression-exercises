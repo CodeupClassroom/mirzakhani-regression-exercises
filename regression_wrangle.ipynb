{
 "cells": [
  {
   "cell_type": "markdown",
   "id": "faaad8cb-2e7c-4f78-8cdb-96032ccbe884",
   "metadata": {},
   "source": [
    "## Wrangling\n",
    " - What Are we aiming to do with wrangle??\n",
    " "
   ]
  },
  {
   "cell_type": "markdown",
   "id": "7d49ceee-f37e-4274-b734-23d2d6e73c5d",
   "metadata": {},
   "source": [
    "### Acquire\n",
    " - Where is our data coming from?\n",
    " - How do we get it? (AKA how can we make it gettable for others?)\n",
    "\n",
    "### Prepare\n",
    " - What does this data look like?\n",
    " - Does the data look like its \"supposed to\"?\n",
    "     - do numbers look like numbers, do we see any major errors in the data that could be chalked up to clerical error or otherwise corrupted information?\n",
    "     - Nulls, Nans, whitespace, other problems\n",
    " - If we have problems with our data, how do we deal with it? \n",
    "     - Fix the problems, record how you fixed the problems (documentation!!!!)\n",
    "     - Examine univariate distributions (Understand what exploration is going to look like going forward -- i.e. How Normal* does this data look on first blush?) (* In the distribution sense, and assert how that will impact both our statistical testing, exploration, and use of these variables)\n",
    "     - script it out into something that can be repeated"
   ]
  },
  {
   "cell_type": "markdown",
   "id": "3c153453-3cf8-4fb0-befc-0ccdaf91b767",
   "metadata": {},
   "source": [
    "#### Step 1: Acquire!\n",
    " - We will be using some student grade data\n",
    " - Planning: We will be attempting to capture a pattern for final grade based on previous exam work from students, with the hope via our projections that we can identify at-risk students early enough in a program to determine if they are at risk of failure"
   ]
  },
  {
   "cell_type": "code",
   "execution_count": 5,
   "id": "cddff935-5a82-478d-b491-d32e0fae5403",
   "metadata": {},
   "outputs": [],
   "source": [
    "import numpy as np\n",
    "import pandas as pd\n",
    "from env import user, password, host "
   ]
  },
  {
   "cell_type": "code",
   "execution_count": 1,
   "id": "35a6eccb-a9b9-4702-a63f-95f3facf63a2",
   "metadata": {},
   "outputs": [],
   "source": [
    "# steps:\n",
    "# I have identified what data I need and \n",
    "# where it lives, so let's go ahead and replicate\n",
    "# that here with python"
   ]
  },
  {
   "cell_type": "code",
   "execution_count": 4,
   "id": "1b735475-28c3-4ef8-a77e-24349085b594",
   "metadata": {},
   "outputs": [],
   "source": [
    "# pd.read_sql?\n",
    "# we need a connection and a query.\n",
    "# first, define our query."
   ]
  },
  {
   "cell_type": "code",
   "execution_count": 10,
   "id": "b669e110-3d40-4281-87dd-ea01554e5922",
   "metadata": {},
   "outputs": [],
   "source": [
    "# use our pymysql formatting to establish our connection string\n",
    "connection = f'mysql+pymysql://{user}:{password}@{host}'"
   ]
  },
  {
   "cell_type": "code",
   "execution_count": 12,
   "id": "f3854ebc-cdf3-4593-a4e5-96ea421f92c1",
   "metadata": {},
   "outputs": [],
   "source": [
    "# use the school sample schema in our DB\n",
    "endpoint = '/school_sample'"
   ]
  },
  {
   "cell_type": "code",
   "execution_count": 13,
   "id": "1be3c8ec-7413-4f51-87f4-5b323ecd86f7",
   "metadata": {},
   "outputs": [],
   "source": [
    "connection = connection+endpoint"
   ]
  },
  {
   "cell_type": "code",
   "execution_count": 15,
   "id": "9942c31b-a27a-4f3f-bbdf-40a1164f52bb",
   "metadata": {},
   "outputs": [],
   "source": [
    "# take the query that we just tested \n",
    "query = 'SELECT * FROM student_grades'"
   ]
  },
  {
   "cell_type": "code",
   "execution_count": 17,
   "id": "c4f5f2cc-1a58-47e8-b66d-3a493923d5a2",
   "metadata": {},
   "outputs": [],
   "source": [
    "# we can use pd.read_sql\n",
    "# throw that into a variable\n",
    "df = pd.read_sql(query, connection)"
   ]
  },
  {
   "cell_type": "markdown",
   "id": "af0b30cf-da18-4d77-bdaa-85bbbf61ff2b",
   "metadata": {},
   "source": [
    "#### What do we want to know about this data?\n",
    " - df.info()\n",
    " - info - give us basic information about the features\n",
    " - df.describe()\n",
    " - describe - basic descriptive statistics\n",
    " - size, shape - know how big the thing is\n",
    " - df.isnull() -- figure out where missing stuff is"
   ]
  },
  {
   "cell_type": "code",
   "execution_count": 18,
   "id": "ce3a93c4-eefc-49a6-bb76-02402bf15ac3",
   "metadata": {},
   "outputs": [
    {
     "data": {
      "text/plain": [
       "520"
      ]
     },
     "execution_count": 18,
     "metadata": {},
     "output_type": "execute_result"
    }
   ],
   "source": [
    "# size: rows X columns\n",
    "df.size"
   ]
  },
  {
   "cell_type": "code",
   "execution_count": 19,
   "id": "e892bbcd-4444-452b-a0ab-93fe13a1a21a",
   "metadata": {},
   "outputs": [
    {
     "data": {
      "text/plain": [
       "(104, 5)"
      ]
     },
     "execution_count": 19,
     "metadata": {},
     "output_type": "execute_result"
    }
   ],
   "source": [
    "# shape: 104 rows, 5 columns\n",
    "df.shape"
   ]
  },
  {
   "cell_type": "code",
   "execution_count": 20,
   "id": "6f81ebdf-f882-4934-b264-305e041185fa",
   "metadata": {},
   "outputs": [
    {
     "data": {
      "text/plain": [
       "520"
      ]
     },
     "execution_count": 20,
     "metadata": {},
     "output_type": "execute_result"
    }
   ],
   "source": [
    "104 * 5"
   ]
  },
  {
   "cell_type": "code",
   "execution_count": 21,
   "id": "21586e6c-e370-4d08-9505-1d0a125ecb04",
   "metadata": {},
   "outputs": [
    {
     "name": "stdout",
     "output_type": "stream",
     "text": [
      "<class 'pandas.core.frame.DataFrame'>\n",
      "RangeIndex: 104 entries, 0 to 103\n",
      "Data columns (total 5 columns):\n",
      " #   Column       Non-Null Count  Dtype  \n",
      "---  ------       --------------  -----  \n",
      " 0   student_id   104 non-null    int64  \n",
      " 1   exam1        103 non-null    float64\n",
      " 2   exam2        104 non-null    int64  \n",
      " 3   exam3        104 non-null    object \n",
      " 4   final_grade  104 non-null    int64  \n",
      "dtypes: float64(1), int64(3), object(1)\n",
      "memory usage: 4.2+ KB\n"
     ]
    }
   ],
   "source": [
    "df.info()"
   ]
  },
  {
   "cell_type": "code",
   "execution_count": 22,
   "id": "bc063e4f-f88e-4ce6-bffa-b13fa2b98e60",
   "metadata": {},
   "outputs": [],
   "source": [
    "# Immediate takeaways from the .info():\n",
    "#  a) We have a missing value in exam1, \n",
    "# as shown with the non-null count\n",
    "# b) We noticed a blank value in the table when we \n",
    "# executed our sql query, how do we take care of this?\n",
    "# Furthermore, how do we find the non-null blank value?\n",
    "# ** note: exam3 is of the object type, which means that is not currently \n",
    "# being interpreted as a number in pandas"
   ]
  },
  {
   "cell_type": "code",
   "execution_count": 23,
   "id": "3e40f14f-d002-4aea-adb1-1ab48ebd43f5",
   "metadata": {},
   "outputs": [
    {
     "data": {
      "text/html": [
       "<div>\n",
       "<style scoped>\n",
       "    .dataframe tbody tr th:only-of-type {\n",
       "        vertical-align: middle;\n",
       "    }\n",
       "\n",
       "    .dataframe tbody tr th {\n",
       "        vertical-align: top;\n",
       "    }\n",
       "\n",
       "    .dataframe thead th {\n",
       "        text-align: right;\n",
       "    }\n",
       "</style>\n",
       "<table border=\"1\" class=\"dataframe\">\n",
       "  <thead>\n",
       "    <tr style=\"text-align: right;\">\n",
       "      <th></th>\n",
       "      <th>student_id</th>\n",
       "      <th>exam1</th>\n",
       "      <th>exam2</th>\n",
       "      <th>final_grade</th>\n",
       "    </tr>\n",
       "  </thead>\n",
       "  <tbody>\n",
       "    <tr>\n",
       "      <th>count</th>\n",
       "      <td>104.000000</td>\n",
       "      <td>103.000000</td>\n",
       "      <td>104.000000</td>\n",
       "      <td>104.000000</td>\n",
       "    </tr>\n",
       "    <tr>\n",
       "      <th>mean</th>\n",
       "      <td>52.500000</td>\n",
       "      <td>78.621359</td>\n",
       "      <td>77.307692</td>\n",
       "      <td>81.692308</td>\n",
       "    </tr>\n",
       "    <tr>\n",
       "      <th>std</th>\n",
       "      <td>30.166206</td>\n",
       "      <td>14.260955</td>\n",
       "      <td>10.295703</td>\n",
       "      <td>10.918122</td>\n",
       "    </tr>\n",
       "    <tr>\n",
       "      <th>min</th>\n",
       "      <td>1.000000</td>\n",
       "      <td>57.000000</td>\n",
       "      <td>65.000000</td>\n",
       "      <td>65.000000</td>\n",
       "    </tr>\n",
       "    <tr>\n",
       "      <th>25%</th>\n",
       "      <td>26.750000</td>\n",
       "      <td>70.000000</td>\n",
       "      <td>70.000000</td>\n",
       "      <td>72.000000</td>\n",
       "    </tr>\n",
       "    <tr>\n",
       "      <th>50%</th>\n",
       "      <td>52.500000</td>\n",
       "      <td>79.000000</td>\n",
       "      <td>75.000000</td>\n",
       "      <td>81.000000</td>\n",
       "    </tr>\n",
       "    <tr>\n",
       "      <th>75%</th>\n",
       "      <td>78.250000</td>\n",
       "      <td>92.000000</td>\n",
       "      <td>89.000000</td>\n",
       "      <td>93.000000</td>\n",
       "    </tr>\n",
       "    <tr>\n",
       "      <th>max</th>\n",
       "      <td>104.000000</td>\n",
       "      <td>100.000000</td>\n",
       "      <td>93.000000</td>\n",
       "      <td>97.000000</td>\n",
       "    </tr>\n",
       "  </tbody>\n",
       "</table>\n",
       "</div>"
      ],
      "text/plain": [
       "       student_id       exam1       exam2  final_grade\n",
       "count  104.000000  103.000000  104.000000   104.000000\n",
       "mean    52.500000   78.621359   77.307692    81.692308\n",
       "std     30.166206   14.260955   10.295703    10.918122\n",
       "min      1.000000   57.000000   65.000000    65.000000\n",
       "25%     26.750000   70.000000   70.000000    72.000000\n",
       "50%     52.500000   79.000000   75.000000    81.000000\n",
       "75%     78.250000   92.000000   89.000000    93.000000\n",
       "max    104.000000  100.000000   93.000000    97.000000"
      ]
     },
     "execution_count": 23,
     "metadata": {},
     "output_type": "execute_result"
    }
   ],
   "source": [
    "# describe should be a little wonky due\n",
    "# to that object type in exam3:\n",
    "df.describe()"
   ]
  },
  {
   "cell_type": "code",
   "execution_count": 24,
   "id": "69c2ff03-160c-46a4-a2d4-d9cc1f130e07",
   "metadata": {},
   "outputs": [],
   "source": [
    "# looks like exam1 had the widest range out of what\n",
    "# we have presently available, average grades are passing\n",
    "# across the board so far"
   ]
  },
  {
   "cell_type": "code",
   "execution_count": 25,
   "id": "a48ab6a0-bf93-4b34-878b-71e8d8c5e751",
   "metadata": {},
   "outputs": [],
   "source": [
    "# Let's look into the real nulls and the fake nulls\n",
    "# and determine how and what to do with them"
   ]
  },
  {
   "cell_type": "code",
   "execution_count": 27,
   "id": "f2ec7034-d05c-4c82-9675-fd1b2b89f41b",
   "metadata": {},
   "outputs": [
    {
     "data": {
      "text/plain": [
       "student_id     0\n",
       "exam1          1\n",
       "exam2          0\n",
       "exam3          0\n",
       "final_grade    0\n",
       "dtype: int64"
      ]
     },
     "execution_count": 27,
     "metadata": {},
     "output_type": "execute_result"
    }
   ],
   "source": [
    "# exam1 has one missing value, as we saw previously\n",
    "df.isnull().sum()"
   ]
  },
  {
   "cell_type": "code",
   "execution_count": 29,
   "id": "9ea2b932-7d21-42be-841e-83d2a9959ac9",
   "metadata": {},
   "outputs": [
    {
     "data": {
      "text/plain": [
       "Int64Index([103], dtype='int64')"
      ]
     },
     "execution_count": 29,
     "metadata": {},
     "output_type": "execute_result"
    }
   ],
   "source": [
    "# the index of the missing value in exam1 is 103\n",
    "df[df.exam1.isnull()].index"
   ]
  },
  {
   "cell_type": "code",
   "execution_count": 30,
   "id": "d75ce4b1-fefb-45cf-99e4-a5b0d5a44ddc",
   "metadata": {},
   "outputs": [],
   "source": [
    "# exam3 is a little tricker:\n",
    "# Its not numerically encoded corrently,\n",
    "# and furthermore the missing value is not a null"
   ]
  },
  {
   "cell_type": "code",
   "execution_count": 32,
   "id": "e51fcd17-1970-4071-9c44-508aaa506610",
   "metadata": {},
   "outputs": [
    {
     "data": {
      "text/plain": [
       "       1\n",
       "79     8\n",
       "70     8\n",
       "86     8\n",
       "94     8\n",
       "95     8\n",
       "85     8\n",
       "87     8\n",
       "75    15\n",
       "78    16\n",
       "96    16\n",
       "Name: exam3, dtype: int64"
      ]
     },
     "execution_count": 32,
     "metadata": {},
     "output_type": "execute_result"
    }
   ],
   "source": [
    "# we saw one record that looked blank, it should be\n",
    "# at the bottom of the value counts\n",
    "df.exam3.value_counts(ascending=True)"
   ]
  },
  {
   "cell_type": "markdown",
   "id": "c8238914-25e4-4312-abc9-3ca5b0041702",
   "metadata": {},
   "source": [
    "### How we interact with null values:\n",
    " - Do we have enough domain knowledge to assert or impute a value?\n",
    " - If we do, then this is likely the best choice, due to the corroboration of extraneous knowledge to the application of the specific dataset that we are examining\n",
    " - What is the risk of removing it entirely?\n",
    " - If the data represents a small portion of our information, then we have a fairly low risk of dropping that information entirely\n",
    "\n",
    " - We have to make judgement calls as the data practitioner -- if we need to drop information, impute it, etc"
   ]
  },
  {
   "cell_type": "code",
   "execution_count": 37,
   "id": "3c0aa1d8-86ad-42b5-b00d-68590a2ea405",
   "metadata": {},
   "outputs": [],
   "source": [
    "# casting whitespace as an integer does not play nice\n",
    "#  nooooo: int(' ')\n",
    "# df.exam3.astype(int)"
   ]
  },
  {
   "cell_type": "code",
   "execution_count": 38,
   "id": "2422bbb9-290b-4473-bf26-12dce736079e",
   "metadata": {},
   "outputs": [],
   "source": [
    "# replacing that whitespace:"
   ]
  },
  {
   "cell_type": "code",
   "execution_count": null,
   "id": "aa2ecb3e-6c48-4ae2-95b1-33e98b78c021",
   "metadata": {},
   "outputs": [],
   "source": [
    "# teensy tiny regex mini lesson for very smols\n",
    "# ^ : \"starts with\"\n",
    "# \\s : \"any type of whitespace\"\n",
    "# * : \" zero or more times\"\n",
    "# $ : \"ends with\""
   ]
  },
  {
   "cell_type": "code",
   "execution_count": null,
   "id": "390cfdc8-e4f4-441f-a0b2-b910a918d293",
   "metadata": {},
   "outputs": [],
   "source": [
    "# '^\\s*$' : something that starts with any whitespace\n",
    "# character for zero or more times until the end"
   ]
  },
  {
   "cell_type": "code",
   "execution_count": 42,
   "id": "7f4b1d06-f869-43ee-905b-2feb035cbb6b",
   "metadata": {},
   "outputs": [
    {
     "data": {
      "text/plain": [
       "0      95\n",
       "1      96\n",
       "2      87\n",
       "3      86\n",
       "4      96\n",
       "       ..\n",
       "99     79\n",
       "100    70\n",
       "101    75\n",
       "102    78\n",
       "103    79\n",
       "Name: exam3, Length: 104, dtype: object"
      ]
     },
     "execution_count": 42,
     "metadata": {},
     "output_type": "execute_result"
    }
   ],
   "source": [
    "# let's change the whitespace into a null value,\n",
    "# since thats effectively what it is\n",
    "# Note: regex is not the only option/way to do this\n",
    "# but its an awfully convenient one that I want y'all to see\n",
    "df.exam3.replace(r'^\\s*$', np.NaN, regex=True)"
   ]
  },
  {
   "cell_type": "code",
   "execution_count": 43,
   "id": "ab577cbb-a40a-4a7f-b892-30cf5436f51b",
   "metadata": {},
   "outputs": [],
   "source": [
    "# we can either reassign df.exam3, or:\n",
    "df = df.replace(r'^\\s*$', np.NaN, regex=True)"
   ]
  },
  {
   "cell_type": "code",
   "execution_count": 46,
   "id": "17f0f265-ce44-4eb1-86c0-91b5a54048f6",
   "metadata": {},
   "outputs": [
    {
     "data": {
      "text/plain": [
       "student_id     0\n",
       "exam1          1\n",
       "exam2          0\n",
       "exam3          1\n",
       "final_grade    0\n",
       "dtype: int64"
      ]
     },
     "execution_count": 46,
     "metadata": {},
     "output_type": "execute_result"
    }
   ],
   "source": [
    "df.isnull().sum()"
   ]
  },
  {
   "cell_type": "code",
   "execution_count": 47,
   "id": "9667ebb4-91ae-474d-8dee-b42d5a4b15d6",
   "metadata": {},
   "outputs": [],
   "source": [
    "# based on previous conversation, I will elect in this instance\n",
    "# to drop out my null values\n",
    "df = df.dropna()"
   ]
  },
  {
   "cell_type": "code",
   "execution_count": 49,
   "id": "f9e9b01e-81cc-4349-8a24-835b8b2cbe5c",
   "metadata": {},
   "outputs": [
    {
     "data": {
      "text/html": [
       "<div>\n",
       "<style scoped>\n",
       "    .dataframe tbody tr th:only-of-type {\n",
       "        vertical-align: middle;\n",
       "    }\n",
       "\n",
       "    .dataframe tbody tr th {\n",
       "        vertical-align: top;\n",
       "    }\n",
       "\n",
       "    .dataframe thead th {\n",
       "        text-align: right;\n",
       "    }\n",
       "</style>\n",
       "<table border=\"1\" class=\"dataframe\">\n",
       "  <thead>\n",
       "    <tr style=\"text-align: right;\">\n",
       "      <th></th>\n",
       "      <th>student_id</th>\n",
       "      <th>exam1</th>\n",
       "      <th>exam2</th>\n",
       "      <th>exam3</th>\n",
       "      <th>final_grade</th>\n",
       "    </tr>\n",
       "  </thead>\n",
       "  <tbody>\n",
       "    <tr>\n",
       "      <th>0</th>\n",
       "      <td>1</td>\n",
       "      <td>100.0</td>\n",
       "      <td>90</td>\n",
       "      <td>95</td>\n",
       "      <td>96</td>\n",
       "    </tr>\n",
       "    <tr>\n",
       "      <th>1</th>\n",
       "      <td>2</td>\n",
       "      <td>98.0</td>\n",
       "      <td>93</td>\n",
       "      <td>96</td>\n",
       "      <td>95</td>\n",
       "    </tr>\n",
       "    <tr>\n",
       "      <th>2</th>\n",
       "      <td>3</td>\n",
       "      <td>85.0</td>\n",
       "      <td>83</td>\n",
       "      <td>87</td>\n",
       "      <td>87</td>\n",
       "    </tr>\n",
       "  </tbody>\n",
       "</table>\n",
       "</div>"
      ],
      "text/plain": [
       "   student_id  exam1  exam2 exam3  final_grade\n",
       "0           1  100.0     90    95           96\n",
       "1           2   98.0     93    96           95\n",
       "2           3   85.0     83    87           87"
      ]
     },
     "execution_count": 49,
     "metadata": {},
     "output_type": "execute_result"
    }
   ],
   "source": [
    "df.head(3)"
   ]
  },
  {
   "cell_type": "code",
   "execution_count": 52,
   "id": "3d6b80bc-7c8f-4566-a53a-0c2bae8f5feb",
   "metadata": {},
   "outputs": [
    {
     "data": {
      "text/plain": [
       "True"
      ]
     },
     "execution_count": 52,
     "metadata": {},
     "output_type": "execute_result"
    }
   ],
   "source": [
    "# comparing floats with ints:\n",
    "100 == 100.00"
   ]
  },
  {
   "cell_type": "code",
   "execution_count": 54,
   "id": "439bcecd-2236-439c-b89b-3eb25684833d",
   "metadata": {},
   "outputs": [
    {
     "data": {
      "text/plain": [
       "0"
      ]
     },
     "execution_count": 54,
     "metadata": {},
     "output_type": "execute_result"
    }
   ],
   "source": [
    "# Is there any instance where the integer\n",
    "# version of exam1 is not equivalent to the grade\n",
    "# as it currently stands\n",
    "# AKA: does truncation change the number?\n",
    "(df.exam1.astype(int) != df.exam1).sum()"
   ]
  },
  {
   "cell_type": "code",
   "execution_count": 55,
   "id": "bfd1286c-1a90-4ed7-937c-2ed3b080b76c",
   "metadata": {},
   "outputs": [],
   "source": [
    "# A: nope"
   ]
  },
  {
   "cell_type": "code",
   "execution_count": 48,
   "id": "f7e79e5c-683e-417c-a5d2-d7842350c32a",
   "metadata": {},
   "outputs": [
    {
     "name": "stdout",
     "output_type": "stream",
     "text": [
      "<class 'pandas.core.frame.DataFrame'>\n",
      "Int64Index: 102 entries, 0 to 102\n",
      "Data columns (total 5 columns):\n",
      " #   Column       Non-Null Count  Dtype  \n",
      "---  ------       --------------  -----  \n",
      " 0   student_id   102 non-null    int64  \n",
      " 1   exam1        102 non-null    float64\n",
      " 2   exam2        102 non-null    int64  \n",
      " 3   exam3        102 non-null    object \n",
      " 4   final_grade  102 non-null    int64  \n",
      "dtypes: float64(1), int64(3), object(1)\n",
      "memory usage: 4.8+ KB\n"
     ]
    }
   ],
   "source": [
    "# recheck df.info:\n",
    "df.info()"
   ]
  },
  {
   "cell_type": "code",
   "execution_count": 44,
   "id": "9c0004eb-41c3-4d1d-804b-94c17843f0a6",
   "metadata": {},
   "outputs": [
    {
     "data": {
      "text/html": [
       "<div>\n",
       "<style scoped>\n",
       "    .dataframe tbody tr th:only-of-type {\n",
       "        vertical-align: middle;\n",
       "    }\n",
       "\n",
       "    .dataframe tbody tr th {\n",
       "        vertical-align: top;\n",
       "    }\n",
       "\n",
       "    .dataframe thead th {\n",
       "        text-align: right;\n",
       "    }\n",
       "</style>\n",
       "<table border=\"1\" class=\"dataframe\">\n",
       "  <thead>\n",
       "    <tr style=\"text-align: right;\">\n",
       "      <th></th>\n",
       "      <th>student_id</th>\n",
       "      <th>exam1</th>\n",
       "      <th>exam2</th>\n",
       "      <th>final_grade</th>\n",
       "    </tr>\n",
       "  </thead>\n",
       "  <tbody>\n",
       "    <tr>\n",
       "      <th>count</th>\n",
       "      <td>104.000000</td>\n",
       "      <td>103.000000</td>\n",
       "      <td>104.000000</td>\n",
       "      <td>104.000000</td>\n",
       "    </tr>\n",
       "    <tr>\n",
       "      <th>mean</th>\n",
       "      <td>52.500000</td>\n",
       "      <td>78.621359</td>\n",
       "      <td>77.307692</td>\n",
       "      <td>81.692308</td>\n",
       "    </tr>\n",
       "    <tr>\n",
       "      <th>std</th>\n",
       "      <td>30.166206</td>\n",
       "      <td>14.260955</td>\n",
       "      <td>10.295703</td>\n",
       "      <td>10.918122</td>\n",
       "    </tr>\n",
       "    <tr>\n",
       "      <th>min</th>\n",
       "      <td>1.000000</td>\n",
       "      <td>57.000000</td>\n",
       "      <td>65.000000</td>\n",
       "      <td>65.000000</td>\n",
       "    </tr>\n",
       "    <tr>\n",
       "      <th>25%</th>\n",
       "      <td>26.750000</td>\n",
       "      <td>70.000000</td>\n",
       "      <td>70.000000</td>\n",
       "      <td>72.000000</td>\n",
       "    </tr>\n",
       "    <tr>\n",
       "      <th>50%</th>\n",
       "      <td>52.500000</td>\n",
       "      <td>79.000000</td>\n",
       "      <td>75.000000</td>\n",
       "      <td>81.000000</td>\n",
       "    </tr>\n",
       "    <tr>\n",
       "      <th>75%</th>\n",
       "      <td>78.250000</td>\n",
       "      <td>92.000000</td>\n",
       "      <td>89.000000</td>\n",
       "      <td>93.000000</td>\n",
       "    </tr>\n",
       "    <tr>\n",
       "      <th>max</th>\n",
       "      <td>104.000000</td>\n",
       "      <td>100.000000</td>\n",
       "      <td>93.000000</td>\n",
       "      <td>97.000000</td>\n",
       "    </tr>\n",
       "  </tbody>\n",
       "</table>\n",
       "</div>"
      ],
      "text/plain": [
       "       student_id       exam1       exam2  final_grade\n",
       "count  104.000000  103.000000  104.000000   104.000000\n",
       "mean    52.500000   78.621359   77.307692    81.692308\n",
       "std     30.166206   14.260955   10.295703    10.918122\n",
       "min      1.000000   57.000000   65.000000    65.000000\n",
       "25%     26.750000   70.000000   70.000000    72.000000\n",
       "50%     52.500000   79.000000   75.000000    81.000000\n",
       "75%     78.250000   92.000000   89.000000    93.000000\n",
       "max    104.000000  100.000000   93.000000    97.000000"
      ]
     },
     "execution_count": 44,
     "metadata": {},
     "output_type": "execute_result"
    }
   ],
   "source": [
    "df.describe()"
   ]
  },
  {
   "cell_type": "code",
   "execution_count": 61,
   "id": "c43f1027-beb1-4690-bf5e-389fbe2731f9",
   "metadata": {},
   "outputs": [],
   "source": [
    "def wrangle_grades(user, password, host):\n",
    "    '''\n",
    "    Wrangle Grades will read in a data set of grades\n",
    "    from our cloud database, utilizing the the positional\n",
    "    arguments of user, password, host\n",
    "    which should be taken from obfuscated information\n",
    "    stored in variables from an env.py\n",
    "    \n",
    "    The acquired data will then be passed into basic data cleaning\n",
    "    and the return of the function will be a single pandas DataFrame\n",
    "    '''\n",
    "    # Acquisition:\n",
    "    # (Maybe in the future cache this as a csv and read-in)\n",
    "    connection = f'mysql+pymysql://{user}:{password}@{host}'\n",
    "    endpoint = '/school_sample'\n",
    "    connection = connection + endpoint\n",
    "    query = 'SELECT * FROM student_grades'\n",
    "    df = pd.read_sql(query, connection)\n",
    "    # Preparation\n",
    "#   # replace any whitespace with null values\n",
    "    df = df.replace(r'^\\s*$', np.NaN, regex=True)\n",
    "    # drop out any null values:\n",
    "    df = df.dropna()\n",
    "    # cast everything as an integer:\n",
    "    df = df.astype(int)\n",
    "    # remove student id, which is a arbitrary index:\n",
    "    df = df.drop(columns='student_id')\n",
    "    # gib data:\n",
    "    return df\n",
    "    "
   ]
  },
  {
   "cell_type": "code",
   "execution_count": 63,
   "id": "ea754b9c-88b7-4a28-a236-24e73b7bf867",
   "metadata": {},
   "outputs": [],
   "source": [
    "clean_df = wrangle_grades(user, password, host)"
   ]
  },
  {
   "cell_type": "code",
   "execution_count": 64,
   "id": "37f03de0-83fe-4e96-b15b-909a5d8e1ead",
   "metadata": {},
   "outputs": [
    {
     "name": "stdout",
     "output_type": "stream",
     "text": [
      "<class 'pandas.core.frame.DataFrame'>\n",
      "Int64Index: 102 entries, 0 to 102\n",
      "Data columns (total 4 columns):\n",
      " #   Column       Non-Null Count  Dtype\n",
      "---  ------       --------------  -----\n",
      " 0   exam1        102 non-null    int64\n",
      " 1   exam2        102 non-null    int64\n",
      " 2   exam3        102 non-null    int64\n",
      " 3   final_grade  102 non-null    int64\n",
      "dtypes: int64(4)\n",
      "memory usage: 4.0 KB\n"
     ]
    }
   ],
   "source": [
    "clean_df.info()"
   ]
  },
  {
   "cell_type": "code",
   "execution_count": 65,
   "id": "8b250c5a-a52c-44c6-bdea-cf068e54d22c",
   "metadata": {},
   "outputs": [],
   "source": [
    "import seaborn as sns\n",
    "import matplotlib.pyplot as plt"
   ]
  },
  {
   "cell_type": "code",
   "execution_count": 67,
   "id": "fa93703a-70e0-431a-ab9f-ead01b389a95",
   "metadata": {},
   "outputs": [
    {
     "data": {
      "image/png": "[encoded data removed]",
      "text/plain": [
       "<Figure size 360x360 with 1 Axes>"
      ]
     },
     "metadata": {
      "needs_background": "light"
     },
     "output_type": "display_data"
    }
   ],
   "source": [
    "# lets check out some distributions before we move on\n",
    "# to exploration:\n",
    "# let's see how normal our target variable is specifically\n",
    "sns.displot(x='final_grade', data=clean_df);"
   ]
  },
  {
   "cell_type": "code",
   "execution_count": 68,
   "id": "2a2f509e-f08b-426b-8f9d-8ec05d988939",
   "metadata": {},
   "outputs": [],
   "source": [
    "# takeaway: our target variable isnt exceptionally Normal,\n",
    "# so we will keep that in our pocket for later\n",
    "# in the event that we want to utilize an algorithm for modeling\n",
    "# that is contingent on Normal data"
   ]
  },
  {
   "cell_type": "code",
   "execution_count": 70,
   "id": "3cd9d532-317e-4944-a511-10ebcea8d659",
   "metadata": {},
   "outputs": [],
   "source": [
    "# for my other columns:\n",
    "columns = list(clean_df.columns)"
   ]
  },
  {
   "cell_type": "code",
   "execution_count": 71,
   "id": "b6ff02d7-f6b1-49f5-a3d9-1e543e01cf6e",
   "metadata": {},
   "outputs": [
    {
     "data": {
      "text/plain": [
       "Index(['exam1', 'exam2', 'exam3', 'final_grade'], dtype='object')"
      ]
     },
     "execution_count": 71,
     "metadata": {},
     "output_type": "execute_result"
    }
   ],
   "source": [
    "clean_df.columns"
   ]
  },
  {
   "cell_type": "code",
   "execution_count": 73,
   "id": "2010f6e5-3f67-469a-a3ef-00b244c441c6",
   "metadata": {},
   "outputs": [
    {
     "data": {
      "image/png": "[encoded data removed]",
      "text/plain": [
       "<Figure size 432x288 with 4 Axes>"
      ]
     },
     "metadata": {
      "needs_background": "light"
     },
     "output_type": "display_data"
    }
   ],
   "source": [
    "for i, col in enumerate(columns):\n",
    "    subplot_number = i + 1\n",
    "    plt.subplot(1,4,subplot_number)\n",
    "    plt.title(col)\n",
    "    clean_df[col].hist(bins=5)\n",
    "    plt.grid(False)"
   ]
  },
  {
   "cell_type": "code",
   "execution_count": 75,
   "id": "73fa50ea-8412-4907-ae4c-3533d60a8bf7",
   "metadata": {},
   "outputs": [
    {
     "data": {
      "image/png": "[encoded data removed]",
      "text/plain": [
       "<Figure size 432x288 with 1 Axes>"
      ]
     },
     "metadata": {
      "needs_background": "light"
     },
     "output_type": "display_data"
    },
    {
     "data": {
      "image/png": "[encoded data removed]",
      "text/plain": [
       "<Figure size 432x288 with 1 Axes>"
      ]
     },
     "metadata": {
      "needs_background": "light"
     },
     "output_type": "display_data"
    },
    {
     "data": {
      "image/png": "[encoded data removed]",
      "text/plain": [
       "<Figure size 432x288 with 1 Axes>"
      ]
     },
     "metadata": {
      "needs_background": "light"
     },
     "output_type": "display_data"
    },
    {
     "data": {
      "image/png": "[encoded data removed]",
      "text/plain": [
       "<Figure size 432x288 with 1 Axes>"
      ]
     },
     "metadata": {
      "needs_background": "light"
     },
     "output_type": "display_data"
    }
   ],
   "source": [
    "for i, col in enumerate(columns):\n",
    "    clean_df[col].hist(bins=5)\n",
    "    plt.title(col)\n",
    "    plt.show()"
   ]
  },
  {
   "cell_type": "code",
   "execution_count": null,
   "id": "fd022529-aa38-42f6-abef-8266e845f3a0",
   "metadata": {},
   "outputs": [],
   "source": [
    "# takeaways:\n",
    "# all of our grade distributions appear to be\n",
    "# roughly bimodal:\n",
    "# that is to say that the students\n",
    "# in these samples appear to fall into one of two\n",
    "# different pools of student,\n",
    "# that may*** represent different populations\n",
    "\n",
    "# Questions for exploration:\n",
    "# can we capture the final grades predictably\n",
    "# utilizing these features?\n",
    "# does the bimodal distribution of these features\n",
    "# and the target impact our capacity to use one model?\n",
    "# does that even matter if the distruibutions of the independent features\n",
    "# are just as bimodal as the target?"
   ]
  }
 ],
 "metadata": {
  "kernelspec": {
   "display_name": "Python 3",
   "language": "python",
   "name": "python3"
  },
  "language_info": {
   "codemirror_mode": {
    "name": "ipython",
    "version": 3
   },
   "file_extension": ".py",
   "mimetype": "text/x-python",
   "name": "python",
   "nbconvert_exporter": "python",
   "pygments_lexer": "ipython3",
   "version": "3.9.4"
  }
 },
 "nbformat": 4,
 "nbformat_minor": 5
}
