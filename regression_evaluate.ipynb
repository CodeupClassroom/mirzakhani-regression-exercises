{
 "cells": [
  {
   "cell_type": "markdown",
   "id": "d1dc14c5",
   "metadata": {},
   "source": [
    "# Regression Evaluation"
   ]
  },
  {
   "cell_type": "code",
   "execution_count": 1,
   "id": "8433c40d",
   "metadata": {},
   "outputs": [],
   "source": [
    "import pandas as pd\n",
    "import numpy as np\n",
    "\n",
    "import matplotlib.pyplot as plt\n",
    "import seaborn as sns"
   ]
  },
  {
   "cell_type": "markdown",
   "id": "bc241dbf",
   "metadata": {},
   "source": [
    "## Why do we evaluate models?\n",
    "\n",
    "- Does this model add any value?\n",
    "- Which model is better?\n",
    "- How confident am I in my model's predictions?\n",
    "\n",
    "## TL:DR\n",
    "\n",
    "- RMSE: \n",
    "    - how much error does the typical prediction has\n",
    "    - same units as the target\n",
    "    - smaller is better\n",
    "- R2: \n",
    "    - variance in y (target) explained by X (predictor)\n",
    "    - closer to 1 is better\n",
    "    \n",
    "slides: https://docs.google.com/presentation/d/1aSl4283cdR5WzyGA8xLYkXqflG1Zyoza-3ZnEUgFVNQ/edit?usp=sharing"
   ]
  },
  {
   "cell_type": "markdown",
   "id": "6eb3d241",
   "metadata": {},
   "source": [
    "### Can we predict the final grade of students based on score from 1st quiz\n",
    "x = score from exam1\n",
    "\n",
    "y = final grade"
   ]
  },
  {
   "cell_type": "code",
   "execution_count": 2,
   "id": "645b9fd5",
   "metadata": {},
   "outputs": [],
   "source": [
    "# generate our student grade data\n",
    "df = pd.DataFrame(np.array([[100, 96], [93, 90], [84, 89], \n",
    "                            [80, 85], [76, 80], [70, 68], [79, 75]]), \n",
    "                  columns = ['x', 'y'])\n",
    "\n",
    "x = df['x']\n",
    "y = df['y']"
   ]
  },
  {
   "cell_type": "code",
   "execution_count": 3,
   "id": "370478f5",
   "metadata": {},
   "outputs": [
    {
     "data": {
      "text/html": [
       "<div>\n",
       "<style scoped>\n",
       "    .dataframe tbody tr th:only-of-type {\n",
       "        vertical-align: middle;\n",
       "    }\n",
       "\n",
       "    .dataframe tbody tr th {\n",
       "        vertical-align: top;\n",
       "    }\n",
       "\n",
       "    .dataframe thead th {\n",
       "        text-align: right;\n",
       "    }\n",
       "</style>\n",
       "<table border=\"1\" class=\"dataframe\">\n",
       "  <thead>\n",
       "    <tr style=\"text-align: right;\">\n",
       "      <th></th>\n",
       "      <th>x</th>\n",
       "      <th>y</th>\n",
       "    </tr>\n",
       "  </thead>\n",
       "  <tbody>\n",
       "    <tr>\n",
       "      <th>0</th>\n",
       "      <td>100</td>\n",
       "      <td>96</td>\n",
       "    </tr>\n",
       "    <tr>\n",
       "      <th>1</th>\n",
       "      <td>93</td>\n",
       "      <td>90</td>\n",
       "    </tr>\n",
       "    <tr>\n",
       "      <th>2</th>\n",
       "      <td>84</td>\n",
       "      <td>89</td>\n",
       "    </tr>\n",
       "    <tr>\n",
       "      <th>3</th>\n",
       "      <td>80</td>\n",
       "      <td>85</td>\n",
       "    </tr>\n",
       "    <tr>\n",
       "      <th>4</th>\n",
       "      <td>76</td>\n",
       "      <td>80</td>\n",
       "    </tr>\n",
       "    <tr>\n",
       "      <th>5</th>\n",
       "      <td>70</td>\n",
       "      <td>68</td>\n",
       "    </tr>\n",
       "    <tr>\n",
       "      <th>6</th>\n",
       "      <td>79</td>\n",
       "      <td>75</td>\n",
       "    </tr>\n",
       "  </tbody>\n",
       "</table>\n",
       "</div>"
      ],
      "text/plain": [
       "     x   y\n",
       "0  100  96\n",
       "1   93  90\n",
       "2   84  89\n",
       "3   80  85\n",
       "4   76  80\n",
       "5   70  68\n",
       "6   79  75"
      ]
     },
     "execution_count": 3,
     "metadata": {},
     "output_type": "execute_result"
    }
   ],
   "source": [
    "#look at it\n",
    "df"
   ]
  },
  {
   "cell_type": "code",
   "execution_count": 4,
   "id": "c6279f8f",
   "metadata": {},
   "outputs": [
    {
     "data": {
      "image/png": "[encoded data removed]",
      "text/plain": [
       "<Figure size 432x288 with 1 Axes>"
      ]
     },
     "metadata": {
      "needs_background": "light"
     },
     "output_type": "display_data"
    }
   ],
   "source": [
    "# look at scatter of x vs y\n",
    "plt.scatter(df.x, df.y)\n",
    "\n",
    "plt.xlabel('x = exam1_grade')\n",
    "plt.ylabel('y = final_exam_grade')\n",
    "plt.show()"
   ]
  },
  {
   "cell_type": "markdown",
   "id": "34b4f999",
   "metadata": {},
   "source": [
    "Linear Regression:\n",
    "\n",
    " - Does a set of independent variables do a good job in predicting an outcome (dependent) variable?  \n",
    " - Is the model good enough compared to a baseline?  \n",
    " - Is the model with features/ind variable valuable/significant compared to a model with no features? "
   ]
  },
  {
   "cell_type": "markdown",
   "id": "5bf1985f",
   "metadata": {},
   "source": [
    "### Create a baseline prediction\n",
    "- Make a prediction just based on dependent variable i.e. model with no independent variable\n",
    "    - mean or median of dependent variable (we will use mean for this lesson)\n"
   ]
  },
  {
   "cell_type": "code",
   "execution_count": 5,
   "id": "7682025f",
   "metadata": {},
   "outputs": [
    {
     "data": {
      "text/plain": [
       "83.28571428571429"
      ]
     },
     "execution_count": 5,
     "metadata": {},
     "output_type": "execute_result"
    }
   ],
   "source": [
    "#calculate mean\n",
    "baseline = df.y.mean()\n",
    "baseline"
   ]
  },
  {
   "cell_type": "code",
   "execution_count": 6,
   "id": "037a2ed9",
   "metadata": {},
   "outputs": [],
   "source": [
    "#add it to the df\n",
    "df['baseline'] = baseline"
   ]
  },
  {
   "cell_type": "code",
   "execution_count": 7,
   "id": "a163c4f8",
   "metadata": {},
   "outputs": [
    {
     "data": {
      "text/html": [
       "<div>\n",
       "<style scoped>\n",
       "    .dataframe tbody tr th:only-of-type {\n",
       "        vertical-align: middle;\n",
       "    }\n",
       "\n",
       "    .dataframe tbody tr th {\n",
       "        vertical-align: top;\n",
       "    }\n",
       "\n",
       "    .dataframe thead th {\n",
       "        text-align: right;\n",
       "    }\n",
       "</style>\n",
       "<table border=\"1\" class=\"dataframe\">\n",
       "  <thead>\n",
       "    <tr style=\"text-align: right;\">\n",
       "      <th></th>\n",
       "      <th>x</th>\n",
       "      <th>y</th>\n",
       "      <th>baseline</th>\n",
       "    </tr>\n",
       "  </thead>\n",
       "  <tbody>\n",
       "    <tr>\n",
       "      <th>0</th>\n",
       "      <td>100</td>\n",
       "      <td>96</td>\n",
       "      <td>83.285714</td>\n",
       "    </tr>\n",
       "    <tr>\n",
       "      <th>1</th>\n",
       "      <td>93</td>\n",
       "      <td>90</td>\n",
       "      <td>83.285714</td>\n",
       "    </tr>\n",
       "    <tr>\n",
       "      <th>2</th>\n",
       "      <td>84</td>\n",
       "      <td>89</td>\n",
       "      <td>83.285714</td>\n",
       "    </tr>\n",
       "    <tr>\n",
       "      <th>3</th>\n",
       "      <td>80</td>\n",
       "      <td>85</td>\n",
       "      <td>83.285714</td>\n",
       "    </tr>\n",
       "    <tr>\n",
       "      <th>4</th>\n",
       "      <td>76</td>\n",
       "      <td>80</td>\n",
       "      <td>83.285714</td>\n",
       "    </tr>\n",
       "    <tr>\n",
       "      <th>5</th>\n",
       "      <td>70</td>\n",
       "      <td>68</td>\n",
       "      <td>83.285714</td>\n",
       "    </tr>\n",
       "    <tr>\n",
       "      <th>6</th>\n",
       "      <td>79</td>\n",
       "      <td>75</td>\n",
       "      <td>83.285714</td>\n",
       "    </tr>\n",
       "  </tbody>\n",
       "</table>\n",
       "</div>"
      ],
      "text/plain": [
       "     x   y   baseline\n",
       "0  100  96  83.285714\n",
       "1   93  90  83.285714\n",
       "2   84  89  83.285714\n",
       "3   80  85  83.285714\n",
       "4   76  80  83.285714\n",
       "5   70  68  83.285714\n",
       "6   79  75  83.285714"
      ]
     },
     "execution_count": 7,
     "metadata": {},
     "output_type": "execute_result"
    }
   ],
   "source": [
    "df"
   ]
  },
  {
   "cell_type": "code",
   "execution_count": 8,
   "id": "4a7a0267",
   "metadata": {},
   "outputs": [
    {
     "data": {
      "image/png": "[encoded data removed]",
      "text/plain": [
       "<Figure size 432x288 with 1 Axes>"
      ]
     },
     "metadata": {
      "needs_background": "light"
     },
     "output_type": "display_data"
    }
   ],
   "source": [
    "# plot data with baseline:\n",
    "plt.scatter(df.x, df.y)\n",
    "plt.axhline(baseline, ls=':')\n",
    "\n",
    "plt.xlabel('x = exam1_grade')\n",
    "plt.ylabel('y = final_exam_grade')\n",
    "plt.title('baseline model')\n",
    "plt.show()"
   ]
  },
  {
   "cell_type": "markdown",
   "id": "5fc726d6",
   "metadata": {},
   "source": [
    "### Now we fit a regression model using OLS method\n",
    "1. make it\n",
    "2. fit it\n",
    "3. do it"
   ]
  },
  {
   "cell_type": "code",
   "execution_count": 9,
   "id": "fff97edf",
   "metadata": {},
   "outputs": [],
   "source": [
    "from sklearn.linear_model import LinearRegression"
   ]
  },
  {
   "cell_type": "code",
   "execution_count": 10,
   "id": "45454118",
   "metadata": {},
   "outputs": [],
   "source": [
    "# OLS = ordinary least squares\n",
    "# create the model object\n",
    "lm = LinearRegression()\n",
    "\n",
    "# fit the model to trainig data\n",
    "lm.fit(df[['x']], df.y)\n",
    "\n",
    "# make prediction\n",
    "# lm.predict will output a numpy array of values,\n",
    "# we will put those values into a series in df\n",
    "df['yhat'] = lm.predict(df[['x']])"
   ]
  },
  {
   "cell_type": "code",
   "execution_count": 11,
   "id": "2bc9e10d",
   "metadata": {},
   "outputs": [
    {
     "data": {
      "text/html": [
       "<div>\n",
       "<style scoped>\n",
       "    .dataframe tbody tr th:only-of-type {\n",
       "        vertical-align: middle;\n",
       "    }\n",
       "\n",
       "    .dataframe tbody tr th {\n",
       "        vertical-align: top;\n",
       "    }\n",
       "\n",
       "    .dataframe thead th {\n",
       "        text-align: right;\n",
       "    }\n",
       "</style>\n",
       "<table border=\"1\" class=\"dataframe\">\n",
       "  <thead>\n",
       "    <tr style=\"text-align: right;\">\n",
       "      <th></th>\n",
       "      <th>x</th>\n",
       "      <th>y</th>\n",
       "      <th>baseline</th>\n",
       "      <th>yhat</th>\n",
       "    </tr>\n",
       "  </thead>\n",
       "  <tbody>\n",
       "    <tr>\n",
       "      <th>0</th>\n",
       "      <td>100</td>\n",
       "      <td>96</td>\n",
       "      <td>83.285714</td>\n",
       "      <td>97.635214</td>\n",
       "    </tr>\n",
       "    <tr>\n",
       "      <th>1</th>\n",
       "      <td>93</td>\n",
       "      <td>90</td>\n",
       "      <td>83.285714</td>\n",
       "      <td>91.676524</td>\n",
       "    </tr>\n",
       "    <tr>\n",
       "      <th>2</th>\n",
       "      <td>84</td>\n",
       "      <td>89</td>\n",
       "      <td>83.285714</td>\n",
       "      <td>84.015350</td>\n",
       "    </tr>\n",
       "    <tr>\n",
       "      <th>3</th>\n",
       "      <td>80</td>\n",
       "      <td>85</td>\n",
       "      <td>83.285714</td>\n",
       "      <td>80.610384</td>\n",
       "    </tr>\n",
       "    <tr>\n",
       "      <th>4</th>\n",
       "      <td>76</td>\n",
       "      <td>80</td>\n",
       "      <td>83.285714</td>\n",
       "      <td>77.205418</td>\n",
       "    </tr>\n",
       "    <tr>\n",
       "      <th>5</th>\n",
       "      <td>70</td>\n",
       "      <td>68</td>\n",
       "      <td>83.285714</td>\n",
       "      <td>72.097968</td>\n",
       "    </tr>\n",
       "    <tr>\n",
       "      <th>6</th>\n",
       "      <td>79</td>\n",
       "      <td>75</td>\n",
       "      <td>83.285714</td>\n",
       "      <td>79.759142</td>\n",
       "    </tr>\n",
       "  </tbody>\n",
       "</table>\n",
       "</div>"
      ],
      "text/plain": [
       "     x   y   baseline       yhat\n",
       "0  100  96  83.285714  97.635214\n",
       "1   93  90  83.285714  91.676524\n",
       "2   84  89  83.285714  84.015350\n",
       "3   80  85  83.285714  80.610384\n",
       "4   76  80  83.285714  77.205418\n",
       "5   70  68  83.285714  72.097968\n",
       "6   79  75  83.285714  79.759142"
      ]
     },
     "execution_count": 11,
     "metadata": {},
     "output_type": "execute_result"
    }
   ],
   "source": [
    "df"
   ]
  },
  {
   "cell_type": "markdown",
   "id": "05b5c160",
   "metadata": {},
   "source": [
    "Variables\n",
    "- x: exam1 score\n",
    "- y: final exam score actual\n",
    "- baseline: final exam baseline prediction\n",
    "- yhat: final exam score OLS prediction"
   ]
  },
  {
   "cell_type": "markdown",
   "id": "4b05f6c6",
   "metadata": {},
   "source": [
    "### Let's plot it! "
   ]
  },
  {
   "cell_type": "code",
   "execution_count": 12,
   "id": "c3b85838",
   "metadata": {},
   "outputs": [
    {
     "data": {
      "image/png": "[encoded data removed]",
      "text/plain": [
       "<Figure size 432x288 with 1 Axes>"
      ]
     },
     "metadata": {
      "needs_background": "light"
     },
     "output_type": "display_data"
    }
   ],
   "source": [
    "# visualize the line of best fit from OLS linear model\n",
    "\n",
    "#scatter is my actuals\n",
    "plt.scatter(df.x, df.y)\n",
    "\n",
    "#lineplot is my regression line\n",
    "plt.plot(df.x, df.yhat)\n",
    "\n",
    "plt.xlabel('x = exam1_grade')\n",
    "plt.ylabel('y = final_exam_grade')\n",
    "plt.title('OLS linear model')\n",
    "plt.show()"
   ]
  },
  {
   "cell_type": "markdown",
   "id": "6516b3ef",
   "metadata": {},
   "source": [
    "## Regression Metrics: Measure of dispersion/distance of datapoints around the fitted line\n",
    "### Regression Metrics\n",
    "- Compare to baseline\n",
    "- Compare different models with different independent variables\n",
    "\n",
    "### Vocabulary\n",
    "- Residual: error (change in actual and predicted)\n",
    "- SSE: sum of squared error\n",
    "- MSE: mean squared error\n",
    "- RMSE: root mean squared error"
   ]
  },
  {
   "cell_type": "code",
   "execution_count": 13,
   "id": "a31924c8",
   "metadata": {},
   "outputs": [
    {
     "data": {
      "text/html": [
       "<div>\n",
       "<style scoped>\n",
       "    .dataframe tbody tr th:only-of-type {\n",
       "        vertical-align: middle;\n",
       "    }\n",
       "\n",
       "    .dataframe tbody tr th {\n",
       "        vertical-align: top;\n",
       "    }\n",
       "\n",
       "    .dataframe thead th {\n",
       "        text-align: right;\n",
       "    }\n",
       "</style>\n",
       "<table border=\"1\" class=\"dataframe\">\n",
       "  <thead>\n",
       "    <tr style=\"text-align: right;\">\n",
       "      <th></th>\n",
       "      <th>x</th>\n",
       "      <th>y</th>\n",
       "      <th>baseline</th>\n",
       "      <th>yhat</th>\n",
       "    </tr>\n",
       "  </thead>\n",
       "  <tbody>\n",
       "    <tr>\n",
       "      <th>0</th>\n",
       "      <td>100</td>\n",
       "      <td>96</td>\n",
       "      <td>83.285714</td>\n",
       "      <td>97.635214</td>\n",
       "    </tr>\n",
       "    <tr>\n",
       "      <th>1</th>\n",
       "      <td>93</td>\n",
       "      <td>90</td>\n",
       "      <td>83.285714</td>\n",
       "      <td>91.676524</td>\n",
       "    </tr>\n",
       "    <tr>\n",
       "      <th>2</th>\n",
       "      <td>84</td>\n",
       "      <td>89</td>\n",
       "      <td>83.285714</td>\n",
       "      <td>84.015350</td>\n",
       "    </tr>\n",
       "    <tr>\n",
       "      <th>3</th>\n",
       "      <td>80</td>\n",
       "      <td>85</td>\n",
       "      <td>83.285714</td>\n",
       "      <td>80.610384</td>\n",
       "    </tr>\n",
       "    <tr>\n",
       "      <th>4</th>\n",
       "      <td>76</td>\n",
       "      <td>80</td>\n",
       "      <td>83.285714</td>\n",
       "      <td>77.205418</td>\n",
       "    </tr>\n",
       "    <tr>\n",
       "      <th>5</th>\n",
       "      <td>70</td>\n",
       "      <td>68</td>\n",
       "      <td>83.285714</td>\n",
       "      <td>72.097968</td>\n",
       "    </tr>\n",
       "    <tr>\n",
       "      <th>6</th>\n",
       "      <td>79</td>\n",
       "      <td>75</td>\n",
       "      <td>83.285714</td>\n",
       "      <td>79.759142</td>\n",
       "    </tr>\n",
       "  </tbody>\n",
       "</table>\n",
       "</div>"
      ],
      "text/plain": [
       "     x   y   baseline       yhat\n",
       "0  100  96  83.285714  97.635214\n",
       "1   93  90  83.285714  91.676524\n",
       "2   84  89  83.285714  84.015350\n",
       "3   80  85  83.285714  80.610384\n",
       "4   76  80  83.285714  77.205418\n",
       "5   70  68  83.285714  72.097968\n",
       "6   79  75  83.285714  79.759142"
      ]
     },
     "execution_count": 13,
     "metadata": {},
     "output_type": "execute_result"
    }
   ],
   "source": [
    "df"
   ]
  },
  {
   "cell_type": "markdown",
   "id": "726f0872",
   "metadata": {},
   "source": [
    "### Calculate the residuals for both yhat and baseline"
   ]
  },
  {
   "cell_type": "code",
   "execution_count": 14,
   "id": "a8188519",
   "metadata": {},
   "outputs": [],
   "source": [
    "# residual = actual - predicted\n",
    "df['baseline_residual'] = df.y - df.baseline\n",
    "df['residual'] = df.y - df.yhat"
   ]
  },
  {
   "cell_type": "code",
   "execution_count": 15,
   "id": "5baff7bf",
   "metadata": {},
   "outputs": [
    {
     "data": {
      "text/html": [
       "<div>\n",
       "<style scoped>\n",
       "    .dataframe tbody tr th:only-of-type {\n",
       "        vertical-align: middle;\n",
       "    }\n",
       "\n",
       "    .dataframe tbody tr th {\n",
       "        vertical-align: top;\n",
       "    }\n",
       "\n",
       "    .dataframe thead th {\n",
       "        text-align: right;\n",
       "    }\n",
       "</style>\n",
       "<table border=\"1\" class=\"dataframe\">\n",
       "  <thead>\n",
       "    <tr style=\"text-align: right;\">\n",
       "      <th></th>\n",
       "      <th>x</th>\n",
       "      <th>y</th>\n",
       "      <th>baseline</th>\n",
       "      <th>yhat</th>\n",
       "      <th>baseline_residual</th>\n",
       "      <th>residual</th>\n",
       "    </tr>\n",
       "  </thead>\n",
       "  <tbody>\n",
       "    <tr>\n",
       "      <th>0</th>\n",
       "      <td>100</td>\n",
       "      <td>96</td>\n",
       "      <td>83.285714</td>\n",
       "      <td>97.635214</td>\n",
       "      <td>12.714286</td>\n",
       "      <td>-1.635214</td>\n",
       "    </tr>\n",
       "    <tr>\n",
       "      <th>1</th>\n",
       "      <td>93</td>\n",
       "      <td>90</td>\n",
       "      <td>83.285714</td>\n",
       "      <td>91.676524</td>\n",
       "      <td>6.714286</td>\n",
       "      <td>-1.676524</td>\n",
       "    </tr>\n",
       "    <tr>\n",
       "      <th>2</th>\n",
       "      <td>84</td>\n",
       "      <td>89</td>\n",
       "      <td>83.285714</td>\n",
       "      <td>84.015350</td>\n",
       "      <td>5.714286</td>\n",
       "      <td>4.984650</td>\n",
       "    </tr>\n",
       "    <tr>\n",
       "      <th>3</th>\n",
       "      <td>80</td>\n",
       "      <td>85</td>\n",
       "      <td>83.285714</td>\n",
       "      <td>80.610384</td>\n",
       "      <td>1.714286</td>\n",
       "      <td>4.389616</td>\n",
       "    </tr>\n",
       "    <tr>\n",
       "      <th>4</th>\n",
       "      <td>76</td>\n",
       "      <td>80</td>\n",
       "      <td>83.285714</td>\n",
       "      <td>77.205418</td>\n",
       "      <td>-3.285714</td>\n",
       "      <td>2.794582</td>\n",
       "    </tr>\n",
       "    <tr>\n",
       "      <th>5</th>\n",
       "      <td>70</td>\n",
       "      <td>68</td>\n",
       "      <td>83.285714</td>\n",
       "      <td>72.097968</td>\n",
       "      <td>-15.285714</td>\n",
       "      <td>-4.097968</td>\n",
       "    </tr>\n",
       "    <tr>\n",
       "      <th>6</th>\n",
       "      <td>79</td>\n",
       "      <td>75</td>\n",
       "      <td>83.285714</td>\n",
       "      <td>79.759142</td>\n",
       "      <td>-8.285714</td>\n",
       "      <td>-4.759142</td>\n",
       "    </tr>\n",
       "  </tbody>\n",
       "</table>\n",
       "</div>"
      ],
      "text/plain": [
       "     x   y   baseline       yhat  baseline_residual  residual\n",
       "0  100  96  83.285714  97.635214          12.714286 -1.635214\n",
       "1   93  90  83.285714  91.676524           6.714286 -1.676524\n",
       "2   84  89  83.285714  84.015350           5.714286  4.984650\n",
       "3   80  85  83.285714  80.610384           1.714286  4.389616\n",
       "4   76  80  83.285714  77.205418          -3.285714  2.794582\n",
       "5   70  68  83.285714  72.097968         -15.285714 -4.097968\n",
       "6   79  75  83.285714  79.759142          -8.285714 -4.759142"
      ]
     },
     "execution_count": 15,
     "metadata": {},
     "output_type": "execute_result"
    }
   ],
   "source": [
    "df"
   ]
  },
  {
   "cell_type": "markdown",
   "id": "b30fb03a",
   "metadata": {},
   "source": [
    "### Residuals for Baseline model"
   ]
  },
  {
   "attachments": {
    "image.png": {
     "image/png": "[encoded data removed]"
    }
   },
   "cell_type": "markdown",
   "id": "fc618658",
   "metadata": {},
   "source": [
    "![image.png](attachment:image.png)"
   ]
  },
  {
   "cell_type": "markdown",
   "id": "188daa2a",
   "metadata": {},
   "source": [
    "### Residuals for OLS model"
   ]
  },
  {
   "attachments": {
    "image.png": {
     "image/png": "[encoded data removed]"
    }
   },
   "cell_type": "markdown",
   "id": "24fc1e6e",
   "metadata": {},
   "source": [
    "![image.png](attachment:image.png)"
   ]
  },
  {
   "cell_type": "markdown",
   "id": "005d9a7e",
   "metadata": {},
   "source": [
    "> Do we prefer higher residuals or lower residuals?"
   ]
  },
  {
   "cell_type": "markdown",
   "id": "753b1bd0",
   "metadata": {},
   "source": [
    "### What is the sum of residuals for these models?"
   ]
  },
  {
   "cell_type": "code",
   "execution_count": 16,
   "id": "96549f11",
   "metadata": {},
   "outputs": [
    {
     "data": {
      "text/plain": [
       "-4.263256414560601e-14"
      ]
     },
     "execution_count": 16,
     "metadata": {},
     "output_type": "execute_result"
    }
   ],
   "source": [
    "#baseline residual sum\n",
    "df.baseline_residual.sum()"
   ]
  },
  {
   "cell_type": "code",
   "execution_count": 17,
   "id": "87fdb6bf",
   "metadata": {},
   "outputs": [
    {
     "data": {
      "text/plain": [
       "-1.4210854715202004e-14"
      ]
     },
     "execution_count": 17,
     "metadata": {},
     "output_type": "execute_result"
    }
   ],
   "source": [
    "#osl residual sum\n",
    "df.residual.sum()"
   ]
  },
  {
   "cell_type": "markdown",
   "id": "7c7f34d4",
   "metadata": {},
   "source": [
    "> Both sums are pretty much zero, so summing residuals is not a helpful measure to finding line of best fit"
   ]
  },
  {
   "cell_type": "markdown",
   "id": "26d61625",
   "metadata": {},
   "source": [
    "### SSE (Sum of Squared Errors)"
   ]
  },
  {
   "cell_type": "markdown",
   "id": "8219293a",
   "metadata": {},
   "source": [
    "- the sum of all the squared errors"
   ]
  },
  {
   "cell_type": "code",
   "execution_count": 18,
   "id": "56ec7869",
   "metadata": {},
   "outputs": [
    {
     "data": {
      "text/html": [
       "<div>\n",
       "<style scoped>\n",
       "    .dataframe tbody tr th:only-of-type {\n",
       "        vertical-align: middle;\n",
       "    }\n",
       "\n",
       "    .dataframe tbody tr th {\n",
       "        vertical-align: top;\n",
       "    }\n",
       "\n",
       "    .dataframe thead th {\n",
       "        text-align: right;\n",
       "    }\n",
       "</style>\n",
       "<table border=\"1\" class=\"dataframe\">\n",
       "  <thead>\n",
       "    <tr style=\"text-align: right;\">\n",
       "      <th></th>\n",
       "      <th>x</th>\n",
       "      <th>y</th>\n",
       "      <th>baseline</th>\n",
       "      <th>yhat</th>\n",
       "      <th>baseline_residual</th>\n",
       "      <th>residual</th>\n",
       "    </tr>\n",
       "  </thead>\n",
       "  <tbody>\n",
       "    <tr>\n",
       "      <th>0</th>\n",
       "      <td>100</td>\n",
       "      <td>96</td>\n",
       "      <td>83.285714</td>\n",
       "      <td>97.635214</td>\n",
       "      <td>12.714286</td>\n",
       "      <td>-1.635214</td>\n",
       "    </tr>\n",
       "    <tr>\n",
       "      <th>1</th>\n",
       "      <td>93</td>\n",
       "      <td>90</td>\n",
       "      <td>83.285714</td>\n",
       "      <td>91.676524</td>\n",
       "      <td>6.714286</td>\n",
       "      <td>-1.676524</td>\n",
       "    </tr>\n",
       "    <tr>\n",
       "      <th>2</th>\n",
       "      <td>84</td>\n",
       "      <td>89</td>\n",
       "      <td>83.285714</td>\n",
       "      <td>84.015350</td>\n",
       "      <td>5.714286</td>\n",
       "      <td>4.984650</td>\n",
       "    </tr>\n",
       "    <tr>\n",
       "      <th>3</th>\n",
       "      <td>80</td>\n",
       "      <td>85</td>\n",
       "      <td>83.285714</td>\n",
       "      <td>80.610384</td>\n",
       "      <td>1.714286</td>\n",
       "      <td>4.389616</td>\n",
       "    </tr>\n",
       "    <tr>\n",
       "      <th>4</th>\n",
       "      <td>76</td>\n",
       "      <td>80</td>\n",
       "      <td>83.285714</td>\n",
       "      <td>77.205418</td>\n",
       "      <td>-3.285714</td>\n",
       "      <td>2.794582</td>\n",
       "    </tr>\n",
       "    <tr>\n",
       "      <th>5</th>\n",
       "      <td>70</td>\n",
       "      <td>68</td>\n",
       "      <td>83.285714</td>\n",
       "      <td>72.097968</td>\n",
       "      <td>-15.285714</td>\n",
       "      <td>-4.097968</td>\n",
       "    </tr>\n",
       "    <tr>\n",
       "      <th>6</th>\n",
       "      <td>79</td>\n",
       "      <td>75</td>\n",
       "      <td>83.285714</td>\n",
       "      <td>79.759142</td>\n",
       "      <td>-8.285714</td>\n",
       "      <td>-4.759142</td>\n",
       "    </tr>\n",
       "  </tbody>\n",
       "</table>\n",
       "</div>"
      ],
      "text/plain": [
       "     x   y   baseline       yhat  baseline_residual  residual\n",
       "0  100  96  83.285714  97.635214          12.714286 -1.635214\n",
       "1   93  90  83.285714  91.676524           6.714286 -1.676524\n",
       "2   84  89  83.285714  84.015350           5.714286  4.984650\n",
       "3   80  85  83.285714  80.610384           1.714286  4.389616\n",
       "4   76  80  83.285714  77.205418          -3.285714  2.794582\n",
       "5   70  68  83.285714  72.097968         -15.285714 -4.097968\n",
       "6   79  75  83.285714  79.759142          -8.285714 -4.759142"
      ]
     },
     "execution_count": 18,
     "metadata": {},
     "output_type": "execute_result"
    }
   ],
   "source": [
    "df"
   ]
  },
  {
   "cell_type": "markdown",
   "id": "cf4ed0b2",
   "metadata": {},
   "source": [
    "#### 1. calculate the square of the residual"
   ]
  },
  {
   "cell_type": "code",
   "execution_count": 19,
   "id": "6f71be72",
   "metadata": {},
   "outputs": [],
   "source": [
    "# the difference between yhat and y, just squared\n",
    "df['baseline_residual_2'] = df.baseline_residual**2\n",
    "df['residual_2'] = df.residual**2"
   ]
  },
  {
   "cell_type": "code",
   "execution_count": 20,
   "id": "69db52d7",
   "metadata": {},
   "outputs": [
    {
     "data": {
      "text/html": [
       "<div>\n",
       "<style scoped>\n",
       "    .dataframe tbody tr th:only-of-type {\n",
       "        vertical-align: middle;\n",
       "    }\n",
       "\n",
       "    .dataframe tbody tr th {\n",
       "        vertical-align: top;\n",
       "    }\n",
       "\n",
       "    .dataframe thead th {\n",
       "        text-align: right;\n",
       "    }\n",
       "</style>\n",
       "<table border=\"1\" class=\"dataframe\">\n",
       "  <thead>\n",
       "    <tr style=\"text-align: right;\">\n",
       "      <th></th>\n",
       "      <th>x</th>\n",
       "      <th>y</th>\n",
       "      <th>baseline</th>\n",
       "      <th>yhat</th>\n",
       "      <th>baseline_residual</th>\n",
       "      <th>residual</th>\n",
       "      <th>baseline_residual_2</th>\n",
       "      <th>residual_2</th>\n",
       "    </tr>\n",
       "  </thead>\n",
       "  <tbody>\n",
       "    <tr>\n",
       "      <th>0</th>\n",
       "      <td>100</td>\n",
       "      <td>96</td>\n",
       "      <td>83.285714</td>\n",
       "      <td>97.635214</td>\n",
       "      <td>12.714286</td>\n",
       "      <td>-1.635214</td>\n",
       "      <td>161.653061</td>\n",
       "      <td>2.673926</td>\n",
       "    </tr>\n",
       "    <tr>\n",
       "      <th>1</th>\n",
       "      <td>93</td>\n",
       "      <td>90</td>\n",
       "      <td>83.285714</td>\n",
       "      <td>91.676524</td>\n",
       "      <td>6.714286</td>\n",
       "      <td>-1.676524</td>\n",
       "      <td>45.081633</td>\n",
       "      <td>2.810732</td>\n",
       "    </tr>\n",
       "    <tr>\n",
       "      <th>2</th>\n",
       "      <td>84</td>\n",
       "      <td>89</td>\n",
       "      <td>83.285714</td>\n",
       "      <td>84.015350</td>\n",
       "      <td>5.714286</td>\n",
       "      <td>4.984650</td>\n",
       "      <td>32.653061</td>\n",
       "      <td>24.846737</td>\n",
       "    </tr>\n",
       "    <tr>\n",
       "      <th>3</th>\n",
       "      <td>80</td>\n",
       "      <td>85</td>\n",
       "      <td>83.285714</td>\n",
       "      <td>80.610384</td>\n",
       "      <td>1.714286</td>\n",
       "      <td>4.389616</td>\n",
       "      <td>2.938776</td>\n",
       "      <td>19.268731</td>\n",
       "    </tr>\n",
       "    <tr>\n",
       "      <th>4</th>\n",
       "      <td>76</td>\n",
       "      <td>80</td>\n",
       "      <td>83.285714</td>\n",
       "      <td>77.205418</td>\n",
       "      <td>-3.285714</td>\n",
       "      <td>2.794582</td>\n",
       "      <td>10.795918</td>\n",
       "      <td>7.809691</td>\n",
       "    </tr>\n",
       "    <tr>\n",
       "      <th>5</th>\n",
       "      <td>70</td>\n",
       "      <td>68</td>\n",
       "      <td>83.285714</td>\n",
       "      <td>72.097968</td>\n",
       "      <td>-15.285714</td>\n",
       "      <td>-4.097968</td>\n",
       "      <td>233.653061</td>\n",
       "      <td>16.793345</td>\n",
       "    </tr>\n",
       "    <tr>\n",
       "      <th>6</th>\n",
       "      <td>79</td>\n",
       "      <td>75</td>\n",
       "      <td>83.285714</td>\n",
       "      <td>79.759142</td>\n",
       "      <td>-8.285714</td>\n",
       "      <td>-4.759142</td>\n",
       "      <td>68.653061</td>\n",
       "      <td>22.649435</td>\n",
       "    </tr>\n",
       "  </tbody>\n",
       "</table>\n",
       "</div>"
      ],
      "text/plain": [
       "     x   y   baseline       yhat  baseline_residual  residual  \\\n",
       "0  100  96  83.285714  97.635214          12.714286 -1.635214   \n",
       "1   93  90  83.285714  91.676524           6.714286 -1.676524   \n",
       "2   84  89  83.285714  84.015350           5.714286  4.984650   \n",
       "3   80  85  83.285714  80.610384           1.714286  4.389616   \n",
       "4   76  80  83.285714  77.205418          -3.285714  2.794582   \n",
       "5   70  68  83.285714  72.097968         -15.285714 -4.097968   \n",
       "6   79  75  83.285714  79.759142          -8.285714 -4.759142   \n",
       "\n",
       "   baseline_residual_2  residual_2  \n",
       "0           161.653061    2.673926  \n",
       "1            45.081633    2.810732  \n",
       "2            32.653061   24.846737  \n",
       "3             2.938776   19.268731  \n",
       "4            10.795918    7.809691  \n",
       "5           233.653061   16.793345  \n",
       "6            68.653061   22.649435  "
      ]
     },
     "execution_count": 20,
     "metadata": {},
     "output_type": "execute_result"
    }
   ],
   "source": [
    "df"
   ]
  },
  {
   "cell_type": "markdown",
   "id": "8ffa41f1",
   "metadata": {},
   "source": [
    "#### 2. sum up the residual square"
   ]
  },
  {
   "cell_type": "code",
   "execution_count": 21,
   "id": "c9c4a2eb",
   "metadata": {},
   "outputs": [],
   "source": [
    "#add the residuals together\n",
    "SSE_baseline = df.baseline_residual_2.sum()\n",
    "SSE = df.residual_2.sum()"
   ]
  },
  {
   "cell_type": "markdown",
   "id": "f6a095f7",
   "metadata": {},
   "source": [
    "#### 3. compare!"
   ]
  },
  {
   "cell_type": "code",
   "execution_count": 22,
   "id": "a0f4b643",
   "metadata": {},
   "outputs": [
    {
     "name": "stdout",
     "output_type": "stream",
     "text": [
      "SSE Baseline = 555.4\n",
      "SSE = 96.9\n"
     ]
    }
   ],
   "source": [
    "print(\"SSE Baseline =\", \"{:.1f}\".format(SSE_baseline))\n",
    "print('SSE =', \"{:.1f}\".format(SSE))"
   ]
  },
  {
   "cell_type": "markdown",
   "id": "50be2b60",
   "metadata": {},
   "source": [
    "**Note:** In regression, the 'line of best fit' is one which minimizes the SSE"
   ]
  },
  {
   "cell_type": "markdown",
   "id": "8739f632",
   "metadata": {},
   "source": [
    "### MSE (Mean Squared Error)\n",
    "\n",
    "- the average of your errors that have each been squared\n",
    "- MSE = SSE/(no. of data points)\n",
    "\n"
   ]
  },
  {
   "cell_type": "code",
   "execution_count": 23,
   "id": "ccf6ff63",
   "metadata": {},
   "outputs": [],
   "source": [
    "#calcaluate MSE\n",
    "MSE_baseline = SSE_baseline/len(df)\n",
    "MSE = SSE/len(df)"
   ]
  },
  {
   "cell_type": "code",
   "execution_count": 24,
   "id": "f36c17be",
   "metadata": {},
   "outputs": [
    {
     "name": "stdout",
     "output_type": "stream",
     "text": [
      "MSE baseline = 79.3\n",
      "MSE = 13.8\n"
     ]
    }
   ],
   "source": [
    "print(f\"MSE baseline = {MSE_baseline:.1f}\")\n",
    "print(f'MSE = {MSE:.1f}')"
   ]
  },
  {
   "cell_type": "markdown",
   "id": "7faa19e7",
   "metadata": {},
   "source": [
    "### RMSE (Root Mean Squared Error)\n",
    "- Square root of MSE\n",
    "- Same units as the output (y) variable"
   ]
  },
  {
   "cell_type": "code",
   "execution_count": 25,
   "id": "5fcf72ff",
   "metadata": {},
   "outputs": [],
   "source": [
    "#calculate RMSE\n",
    "RMSE_baseline = MSE_baseline**.5\n",
    "RMSE = MSE**.5"
   ]
  },
  {
   "cell_type": "code",
   "execution_count": 26,
   "id": "d1729727",
   "metadata": {},
   "outputs": [
    {
     "name": "stdout",
     "output_type": "stream",
     "text": [
      "RMSE baseline =  8.9\n",
      "RMSE =  3.7\n"
     ]
    }
   ],
   "source": [
    "print(\"RMSE baseline = \", \"{:.1f}\".format(RMSE_baseline))\n",
    "print(\"RMSE = \", \"{:.1f}\".format(RMSE))"
   ]
  },
  {
   "cell_type": "markdown",
   "id": "c2fcb1e8",
   "metadata": {},
   "source": [
    "## Another Way! - sklearn"
   ]
  },
  {
   "cell_type": "markdown",
   "id": "eb1cc8c5",
   "metadata": {},
   "source": [
    "https://scikit-learn.org/stable/modules/model_evaluation.html#regression-metrics\n",
    "    \n",
    "Start with MSE: https://scikit-learn.org/stable/modules/generated/sklearn.metrics.mean_squared_error.html "
   ]
  },
  {
   "attachments": {
    "image.png": {
     "image/png": "[encoded data removed]"
    }
   },
   "cell_type": "markdown",
   "id": "195225c6",
   "metadata": {},
   "source": [
    "![image.png](attachment:image.png)"
   ]
  },
  {
   "cell_type": "code",
   "execution_count": 27,
   "id": "f75c23ec",
   "metadata": {},
   "outputs": [],
   "source": [
    "#import sklearn mean_square_error\n",
    "from sklearn.metrics import mean_squared_error"
   ]
  },
  {
   "cell_type": "markdown",
   "id": "e71ce71f",
   "metadata": {},
   "source": [
    "### MSE (Mean Squared Error)\n"
   ]
  },
  {
   "cell_type": "code",
   "execution_count": 28,
   "id": "10f7e162",
   "metadata": {},
   "outputs": [],
   "source": [
    "MSE2_baseline = mean_squared_error(df.y, df.baseline)\n",
    "MSE2 = mean_squared_error(df.y, df.yhat)"
   ]
  },
  {
   "cell_type": "code",
   "execution_count": 29,
   "id": "df292a20",
   "metadata": {},
   "outputs": [
    {
     "name": "stdout",
     "output_type": "stream",
     "text": [
      "MSE baseline: 79.34693877551021\n",
      "MSE: 13.836085133827794\n"
     ]
    }
   ],
   "source": [
    "print(\"MSE baseline:\", MSE2_baseline) \n",
    "print(\"MSE:\", MSE2) "
   ]
  },
  {
   "cell_type": "markdown",
   "id": "21076ac8",
   "metadata": {},
   "source": [
    "### SSE (Sum of Squared Errors)"
   ]
  },
  {
   "cell_type": "code",
   "execution_count": 30,
   "id": "5954d26d",
   "metadata": {},
   "outputs": [],
   "source": [
    "SSE2_baseline =  MSE2_baseline * len(df)\n",
    "SSE2 = MSE2 * len(df)"
   ]
  },
  {
   "cell_type": "code",
   "execution_count": 31,
   "id": "67c3b675",
   "metadata": {},
   "outputs": [
    {
     "name": "stdout",
     "output_type": "stream",
     "text": [
      "SSE baseline: 555.4285714285714\n",
      "SSE: 96.85259593679456\n"
     ]
    }
   ],
   "source": [
    "print(\"SSE baseline:\" ,SSE2_baseline) \n",
    "print(\"SSE:\", SSE2) "
   ]
  },
  {
   "cell_type": "markdown",
   "id": "6834f8c2",
   "metadata": {},
   "source": [
    "### RMSE (Root Mean Squared Error)"
   ]
  },
  {
   "cell_type": "code",
   "execution_count": 32,
   "id": "ca2b1f8d",
   "metadata": {},
   "outputs": [],
   "source": [
    "RMSE2_baseline = MSE2_baseline**.5\n",
    "RMSE2 = MSE2**.5"
   ]
  },
  {
   "cell_type": "code",
   "execution_count": 33,
   "id": "b9bdbb9e",
   "metadata": {},
   "outputs": [
    {
     "name": "stdout",
     "output_type": "stream",
     "text": [
      "RMSE baseline 8.907689867497083\n",
      "RMSE 3.719688849060872\n"
     ]
    }
   ],
   "source": [
    "print(\"RMSE baseline\" ,RMSE2_baseline)\n",
    "print(\"RMSE\", RMSE2) "
   ]
  },
  {
   "cell_type": "markdown",
   "id": "04a59daf",
   "metadata": {},
   "source": [
    "#### You can also use sklearn.mean_squared_error('squared = False')"
   ]
  },
  {
   "cell_type": "code",
   "execution_count": 34,
   "id": "aa7c0813",
   "metadata": {},
   "outputs": [
    {
     "data": {
      "text/plain": [
       "8.907689867497083"
      ]
     },
     "execution_count": 34,
     "metadata": {},
     "output_type": "execute_result"
    }
   ],
   "source": [
    "mean_squared_error(df.y, df.baseline, squared=False)"
   ]
  },
  {
   "cell_type": "code",
   "execution_count": 35,
   "id": "912a29b3",
   "metadata": {},
   "outputs": [
    {
     "data": {
      "text/plain": [
       "3.719688849060872"
      ]
     },
     "execution_count": 35,
     "metadata": {},
     "output_type": "execute_result"
    }
   ],
   "source": [
    "mean_squared_error(df.y, df.yhat, squared=False)"
   ]
  },
  {
   "cell_type": "markdown",
   "id": "a78bcb51",
   "metadata": {},
   "source": [
    "## Which metric to use?\n",
    "Most often used:\n",
    "\n",
    "- RMSE - Most commonly used - Same units as the dependent variable. Average distance of each point from fitted regression line\n",
    "\n",
    "- SSE - If outliers matter, you can use SSE - Amplifies the effect of outliers\n",
    "    - Residual 5 ----> SSE 25\n",
    "    - Residual 10 ---> SSE 100"
   ]
  },
  {
   "cell_type": "markdown",
   "id": "50c9d74d",
   "metadata": {},
   "source": [
    "## How much of variance in target variable is explained by your independent variables?\n",
    "\n",
    " - $R^2$ - Coefficient of determination (0 to 1)\n",
    "     - r2_score == explained_variance_score\n",
    " - Compares the fit of the chosen model with that of a horizontal straight line (baseline)\n"
   ]
  },
  {
   "attachments": {
    "image.png": {
     "image/png": "[encoded data removed]"
    }
   },
   "cell_type": "markdown",
   "id": "f705cdab",
   "metadata": {},
   "source": [
    "![image.png](attachment:image.png)"
   ]
  },
  {
   "cell_type": "markdown",
   "id": "229d3c44",
   "metadata": {},
   "source": [
    "Distance between the point (value) and mean value (baseline) is 'Total Error'  \n",
    "Total Error = 'Explained Error' (accounted by for regression) + 'Unexplained Error'  \n",
    "\n",
    "ESS = Explained Sum of Squared Error  \n",
    "TSS = Total sum of squared error\n",
    "\n",
    "$R^2$ = ESS/TSS\n",
    "\n",
    "$R^2$ = 1 - SSE/TSS  (since ESS + SSE = TSS)\n",
    "\n",
    "*Note: TSS == SSE for baseline model (mean model)*"
   ]
  },
  {
   "cell_type": "markdown",
   "id": "fddc99ee",
   "metadata": {},
   "source": [
    "### Calculate R2 manually"
   ]
  },
  {
   "cell_type": "code",
   "execution_count": 36,
   "id": "fb06b78c",
   "metadata": {},
   "outputs": [
    {
     "data": {
      "text/plain": [
       "555.4285714285714"
      ]
     },
     "execution_count": 36,
     "metadata": {},
     "output_type": "execute_result"
    }
   ],
   "source": [
    "# Total Sum of Squares = SSE for baseline\n",
    "TSS = SSE_baseline\n",
    "TSS"
   ]
  },
  {
   "cell_type": "code",
   "execution_count": 37,
   "id": "cecb733e",
   "metadata": {},
   "outputs": [
    {
     "data": {
      "text/plain": [
       "96.85259593679456"
      ]
     },
     "execution_count": 37,
     "metadata": {},
     "output_type": "execute_result"
    }
   ],
   "source": [
    "# Sum of squared error for the regression line (Unexplained error)\n",
    "SSE"
   ]
  },
  {
   "cell_type": "code",
   "execution_count": 38,
   "id": "8a8fb041",
   "metadata": {},
   "outputs": [
    {
     "data": {
      "text/plain": [
       "458.5759754917769"
      ]
     },
     "execution_count": 38,
     "metadata": {},
     "output_type": "execute_result"
    }
   ],
   "source": [
    "# ESS - Explained sum of squares ('Explained Error')\n",
    "ESS = TSS - SSE\n",
    "ESS"
   ]
  },
  {
   "cell_type": "code",
   "execution_count": 39,
   "id": "c2b297b4",
   "metadata": {},
   "outputs": [
    {
     "data": {
      "text/plain": [
       "0.8256254702784048"
      ]
     },
     "execution_count": 39,
     "metadata": {},
     "output_type": "execute_result"
    }
   ],
   "source": [
    "# Calculate R2\n",
    "R2 = ESS/TSS\n",
    "R2"
   ]
  },
  {
   "cell_type": "markdown",
   "id": "2fb9195b",
   "metadata": {},
   "source": [
    "### Calculate R2 with sklearn"
   ]
  },
  {
   "cell_type": "code",
   "execution_count": 40,
   "id": "d80c6205",
   "metadata": {},
   "outputs": [],
   "source": [
    "#import r2_score from sklearn\n",
    "from sklearn.metrics import r2_score"
   ]
  },
  {
   "cell_type": "code",
   "execution_count": 41,
   "id": "dd3b5479",
   "metadata": {},
   "outputs": [
    {
     "data": {
      "text/html": [
       "<div>\n",
       "<style scoped>\n",
       "    .dataframe tbody tr th:only-of-type {\n",
       "        vertical-align: middle;\n",
       "    }\n",
       "\n",
       "    .dataframe tbody tr th {\n",
       "        vertical-align: top;\n",
       "    }\n",
       "\n",
       "    .dataframe thead th {\n",
       "        text-align: right;\n",
       "    }\n",
       "</style>\n",
       "<table border=\"1\" class=\"dataframe\">\n",
       "  <thead>\n",
       "    <tr style=\"text-align: right;\">\n",
       "      <th></th>\n",
       "      <th>x</th>\n",
       "      <th>y</th>\n",
       "      <th>baseline</th>\n",
       "      <th>yhat</th>\n",
       "      <th>baseline_residual</th>\n",
       "      <th>residual</th>\n",
       "      <th>baseline_residual_2</th>\n",
       "      <th>residual_2</th>\n",
       "    </tr>\n",
       "  </thead>\n",
       "  <tbody>\n",
       "    <tr>\n",
       "      <th>0</th>\n",
       "      <td>100</td>\n",
       "      <td>96</td>\n",
       "      <td>83.285714</td>\n",
       "      <td>97.635214</td>\n",
       "      <td>12.714286</td>\n",
       "      <td>-1.635214</td>\n",
       "      <td>161.653061</td>\n",
       "      <td>2.673926</td>\n",
       "    </tr>\n",
       "    <tr>\n",
       "      <th>1</th>\n",
       "      <td>93</td>\n",
       "      <td>90</td>\n",
       "      <td>83.285714</td>\n",
       "      <td>91.676524</td>\n",
       "      <td>6.714286</td>\n",
       "      <td>-1.676524</td>\n",
       "      <td>45.081633</td>\n",
       "      <td>2.810732</td>\n",
       "    </tr>\n",
       "    <tr>\n",
       "      <th>2</th>\n",
       "      <td>84</td>\n",
       "      <td>89</td>\n",
       "      <td>83.285714</td>\n",
       "      <td>84.015350</td>\n",
       "      <td>5.714286</td>\n",
       "      <td>4.984650</td>\n",
       "      <td>32.653061</td>\n",
       "      <td>24.846737</td>\n",
       "    </tr>\n",
       "    <tr>\n",
       "      <th>3</th>\n",
       "      <td>80</td>\n",
       "      <td>85</td>\n",
       "      <td>83.285714</td>\n",
       "      <td>80.610384</td>\n",
       "      <td>1.714286</td>\n",
       "      <td>4.389616</td>\n",
       "      <td>2.938776</td>\n",
       "      <td>19.268731</td>\n",
       "    </tr>\n",
       "    <tr>\n",
       "      <th>4</th>\n",
       "      <td>76</td>\n",
       "      <td>80</td>\n",
       "      <td>83.285714</td>\n",
       "      <td>77.205418</td>\n",
       "      <td>-3.285714</td>\n",
       "      <td>2.794582</td>\n",
       "      <td>10.795918</td>\n",
       "      <td>7.809691</td>\n",
       "    </tr>\n",
       "    <tr>\n",
       "      <th>5</th>\n",
       "      <td>70</td>\n",
       "      <td>68</td>\n",
       "      <td>83.285714</td>\n",
       "      <td>72.097968</td>\n",
       "      <td>-15.285714</td>\n",
       "      <td>-4.097968</td>\n",
       "      <td>233.653061</td>\n",
       "      <td>16.793345</td>\n",
       "    </tr>\n",
       "    <tr>\n",
       "      <th>6</th>\n",
       "      <td>79</td>\n",
       "      <td>75</td>\n",
       "      <td>83.285714</td>\n",
       "      <td>79.759142</td>\n",
       "      <td>-8.285714</td>\n",
       "      <td>-4.759142</td>\n",
       "      <td>68.653061</td>\n",
       "      <td>22.649435</td>\n",
       "    </tr>\n",
       "  </tbody>\n",
       "</table>\n",
       "</div>"
      ],
      "text/plain": [
       "     x   y   baseline       yhat  baseline_residual  residual  \\\n",
       "0  100  96  83.285714  97.635214          12.714286 -1.635214   \n",
       "1   93  90  83.285714  91.676524           6.714286 -1.676524   \n",
       "2   84  89  83.285714  84.015350           5.714286  4.984650   \n",
       "3   80  85  83.285714  80.610384           1.714286  4.389616   \n",
       "4   76  80  83.285714  77.205418          -3.285714  2.794582   \n",
       "5   70  68  83.285714  72.097968         -15.285714 -4.097968   \n",
       "6   79  75  83.285714  79.759142          -8.285714 -4.759142   \n",
       "\n",
       "   baseline_residual_2  residual_2  \n",
       "0           161.653061    2.673926  \n",
       "1            45.081633    2.810732  \n",
       "2            32.653061   24.846737  \n",
       "3             2.938776   19.268731  \n",
       "4            10.795918    7.809691  \n",
       "5           233.653061   16.793345  \n",
       "6            68.653061   22.649435  "
      ]
     },
     "execution_count": 41,
     "metadata": {},
     "output_type": "execute_result"
    }
   ],
   "source": [
    "df"
   ]
  },
  {
   "cell_type": "code",
   "execution_count": 42,
   "id": "8c97a632",
   "metadata": {},
   "outputs": [
    {
     "data": {
      "text/plain": [
       "0.8256254702784048"
      ]
     },
     "execution_count": 42,
     "metadata": {},
     "output_type": "execute_result"
    }
   ],
   "source": [
    "#use r2_score\n",
    "r2_score(df.y, df.yhat)"
   ]
  },
  {
   "cell_type": "code",
   "execution_count": null,
   "id": "cb4035d6",
   "metadata": {},
   "outputs": [],
   "source": []
  }
 ],
 "metadata": {
  "kernelspec": {
   "display_name": "Python 3 (ipykernel)",
   "language": "python",
   "name": "python3"
  },
  "language_info": {
   "codemirror_mode": {
    "name": "ipython",
    "version": 3
   },
   "file_extension": ".py",
   "mimetype": "text/x-python",
   "name": "python",
   "nbconvert_exporter": "python",
   "pygments_lexer": "ipython3",
   "version": "3.9.12"
  }
 },
 "nbformat": 4,
 "nbformat_minor": 5
}
